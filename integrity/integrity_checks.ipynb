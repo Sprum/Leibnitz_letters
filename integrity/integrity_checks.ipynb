{
 "cells": [
  {
   "cell_type": "markdown",
   "source": [
    "Check for:\n",
    "1. alle Orte in data/all  \n",
    "2. letter_map integrity\n",
    "3. keine leftovers von letter_map in den sub_map sets"
   ],
   "metadata": {
    "collapsed": false
   },
   "id": "c965fa9f9967d3eb"
  },
  {
   "cell_type": "code",
   "execution_count": 6,
   "outputs": [],
   "source": [
    "from aggregate.letter_map import letter_map, year_set, places_set, cities,countries,always_drop,always_rename,nationalities_ethnicities,misc,rivers,regions,landmarks,continents,water_bodies"
   ],
   "metadata": {
    "collapsed": false,
    "ExecuteTime": {
     "end_time": "2024-07-18T13:18:54.333344900Z",
     "start_time": "2024-07-18T13:18:54.327355200Z"
    }
   },
   "id": "fed8b5d99c30760"
  },
  {
   "cell_type": "code",
   "execution_count": null,
   "id": "initial_id",
   "metadata": {
    "collapsed": true
   },
   "outputs": [],
   "source": [
    "from processing import main_func_letters_to_csv\n",
    "\n",
    "\n",
    "working_dir = \"./\"\n",
    "# everything that is found by spacy:\n",
    "main_func_letters_to_csv(working_dir)\n"
   ]
  },
  {
   "cell_type": "code",
   "execution_count": null,
   "outputs": [],
   "source": [
    "from aggregate.data_aggregation import aggregate_all\n",
    "from pathlib import Path\n",
    "\n",
    "letter_dir = \"./\"\n",
    "paths = [path for path in Path(letter_dir).iterdir() if path.suffix == \".csv\"]\n",
    "# aggregate all letters to one in integrity\n",
    "aggregate_all(paths, \"./all.csv\")\n"
   ],
   "metadata": {
    "collapsed": false
   },
   "id": "c9cd5a431e8ac731"
  },
  {
   "cell_type": "code",
   "execution_count": null,
   "outputs": [],
   "source": [
    "import pandas as pd\n",
    "\n",
    "# make set\n",
    "df = pd.read_csv(\"./all.csv\")\n",
    "all = set(df['Place'])\n",
    "left_overs = all - places_set\n",
    "left_overs, len(left_overs)"
   ],
   "metadata": {
    "collapsed": false
   },
   "id": "e104ed7daacd391d"
  },
  {
   "cell_type": "code",
   "execution_count": null,
   "outputs": [],
   "source": [
    "# everything that is not in places_set but found by spacy:\n",
    "## check set against set\n",
    "\n"
   ],
   "metadata": {
    "collapsed": false
   },
   "id": "c1d75e673868997b"
  },
  {
   "cell_type": "code",
   "execution_count": null,
   "outputs": [],
   "source": [
    "# check if all set items are in subsets \n",
    "left_overs_conditions = places_set\n",
    "for s in [places_set, cities,countries,nationalities_ethnicities,misc,rivers,regions,landmarks,continents,water_bodies]:\n",
    "    left_overs_conditions -= s \n",
    "\n",
    "left_overs_conditions\n"
   ],
   "metadata": {
    "collapsed": false
   },
   "id": "216ec34ea3198dbb"
  },
  {
   "cell_type": "markdown",
   "source": [
    "check if places set has somthing that is not in subsets"
   ],
   "metadata": {
    "collapsed": false
   },
   "id": "c47529e4b9738a6c"
  },
  {
   "cell_type": "code",
   "execution_count": null,
   "outputs": [],
   "source": [
    "sets = [cities, countries, nationalities_ethnicities, misc, rivers, regions, landmarks, continents, water_bodies, nationalities_ethnicities, always_drop]\n",
    "places_set_test = places_set\n",
    "for s in sets:\n",
    "    places_set_test -= s\n",
    "        \n",
    "for rename in always_rename.keys():\n",
    "    places_set -= set(rename)\n",
    "        \n",
    "print(places_set_test)\n",
    "\n"
   ],
   "metadata": {
    "collapsed": false
   },
   "id": "17fa667afc0e0cd5"
  },
  {
   "cell_type": "markdown",
   "source": [
    "check if there are more places in the data then there are in the place_set"
   ],
   "metadata": {
    "collapsed": false
   },
   "id": "4c92e6940160308d"
  },
  {
   "cell_type": "code",
   "execution_count": 1,
   "outputs": [],
   "source": [
    "import pandas as pd\n",
    "all_data = pd.read_csv(\"../data/all.csv\")\n",
    "all_places = set(all_data['Place'])"
   ],
   "metadata": {
    "collapsed": false,
    "ExecuteTime": {
     "end_time": "2024-07-18T13:17:10.391066700Z",
     "start_time": "2024-07-18T13:17:09.272900400Z"
    }
   },
   "id": "8c2610a226f329c8"
  },
  {
   "cell_type": "code",
   "execution_count": 3,
   "outputs": [
    {
     "name": "stdout",
     "output_type": "stream",
     "text": [
      "set()\n"
     ]
    }
   ],
   "source": [
    "from aggregate.letter_map import places_set\n",
    "# print(all_places)\n",
    "print(all_places - places_set)"
   ],
   "metadata": {
    "collapsed": false,
    "ExecuteTime": {
     "end_time": "2024-07-18T13:13:53.756637600Z",
     "start_time": "2024-07-18T13:13:53.729617800Z"
    }
   },
   "id": "f93229c14d2dfe0e"
  },
  {
   "cell_type": "markdown",
   "source": [
    "Check if everything is geocoded that needs to be geocoded"
   ],
   "metadata": {
    "collapsed": false
   },
   "id": "886ed8976a7212a5"
  },
  {
   "cell_type": "code",
   "execution_count": 10,
   "outputs": [
    {
     "name": "stdout",
     "output_type": "stream",
     "text": [
      "{'Greiffenstein', 'Laxemburg', 'Amsterdamer', 'Straßburg', 'Holländer', 'Turku', 'Königreich', 'Pest', 'Scarlati', 'Spanheim'}\n"
     ]
    }
   ],
   "source": [
    "from geocoding.integrity import concat_geocoded_dfs\n",
    "from pathlib import Path\n",
    "\n",
    "coded_paths = [path for path in Path(\"../geocoding/coded\").iterdir() if path.suffix == \".csv\"]\n",
    "cdf = concat_geocoded_dfs(coded_paths)\n",
    "all_encoded = set(cdf['original_Place'])\n",
    "\n",
    "left_over_geo = all_places - all_encoded\n",
    "left_over_geo -= rivers\n",
    "left_over_geo -= water_bodies\n",
    "left_over_geo -= nationalities_ethnicities\n",
    "left_over_geo -= continents\n",
    "left_over_geo -= always_drop\n",
    "for s in always_rename.keys():\n",
    "    left_over_geo -= set(s)\n",
    "\n",
    "print(left_over_geo)"
   ],
   "metadata": {
    "collapsed": false,
    "ExecuteTime": {
     "end_time": "2024-07-18T13:19:59.703502900Z",
     "start_time": "2024-07-18T13:19:59.656545300Z"
    }
   },
   "id": "2e923cc3e5866433"
  },
  {
   "cell_type": "code",
   "execution_count": null,
   "outputs": [],
   "source": [],
   "metadata": {
    "collapsed": false
   },
   "id": "18da49c73ac2e2eb"
  }
 ],
 "metadata": {
  "kernelspec": {
   "display_name": "Python 3",
   "language": "python",
   "name": "python3"
  },
  "language_info": {
   "codemirror_mode": {
    "name": "ipython",
    "version": 2
   },
   "file_extension": ".py",
   "mimetype": "text/x-python",
   "name": "python",
   "nbconvert_exporter": "python",
   "pygments_lexer": "ipython2",
   "version": "2.7.6"
  }
 },
 "nbformat": 4,
 "nbformat_minor": 5
}
