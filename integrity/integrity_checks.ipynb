{
 "cells": [
  {
   "cell_type": "markdown",
   "source": [
    "Check for:\n",
    "1. alle Orte in data/all  \n",
    "2. letter_map integrity\n",
    "3. keine leftovers von letter_map in den sub_map sets"
   ],
   "metadata": {
    "collapsed": false
   },
   "id": "c965fa9f9967d3eb"
  },
  {
   "cell_type": "code",
   "execution_count": null,
   "id": "initial_id",
   "metadata": {
    "collapsed": true
   },
   "outputs": [],
   "source": []
  }
 ],
 "metadata": {
  "kernelspec": {
   "display_name": "Python 3",
   "language": "python",
   "name": "python3"
  },
  "language_info": {
   "codemirror_mode": {
    "name": "ipython",
    "version": 2
   },
   "file_extension": ".py",
   "mimetype": "text/x-python",
   "name": "python",
   "nbconvert_exporter": "python",
   "pygments_lexer": "ipython2",
   "version": "2.7.6"
  }
 },
 "nbformat": 4,
 "nbformat_minor": 5
}
