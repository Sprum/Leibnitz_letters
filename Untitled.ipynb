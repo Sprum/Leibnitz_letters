{
 "cells": [
  {
   "cell_type": "code",
   "execution_count": 1,
   "id": "d704b3ee-0cc8-4f11-a33b-f9792eda06b6",
   "metadata": {},
   "outputs": [],
   "source": [
    "from util import detect_letter_start\n",
    "from tqdm.auto import tqdm\n",
    "import PyPDF2 as pdf\n"
   ]
  },
  {
   "cell_type": "code",
   "execution_count": 2,
   "id": "cfe1ed4a-ac57-42f4-8e48-3698694603e1",
   "metadata": {},
   "outputs": [
    {
     "data": {
      "application/vnd.jupyter.widget-view+json": {
       "model_id": "28276e7ce34b49ae9e08804f7a57d638",
       "version_major": 2,
       "version_minor": 0
      },
      "text/plain": [
       "  0%|          | 0/782 [00:00<?, ?it/s]"
      ]
     },
     "metadata": {},
     "output_type": "display_data"
    }
   ],
   "source": [
    "# read in PDF of book\n",
    "file = open(\"Briefwechsel.pdf\", \"rb\")\n",
    "reader = pdf.PdfReader(file)\n",
    "\n",
    "# turn Book into a list of pages starting with first letter\n",
    "book = []\n",
    "\n",
    "for page in tqdm(range(7, 789)):\n",
    "    content = reader.pages[page].extract_text()\n",
    "    book.append(content)"
   ]
  },
  {
   "cell_type": "code",
   "execution_count": 3,
   "id": "e3009dc9-47dc-4142-9b57-1738779192c5",
   "metadata": {},
   "outputs": [
    {
     "name": "stdout",
     "output_type": "stream",
     "text": [
      "<class 'str'>\n"
     ]
    }
   ],
   "source": [
    "print(type(book[0]))"
   ]
  },
  {
   "cell_type": "code",
   "execution_count": 4,
   "id": "2aecccae-2c41-4c99-8340-b9b955b51755",
   "metadata": {},
   "outputs": [],
   "source": [
    "from util import master_func\n"
   ]
  },
  {
   "cell_type": "code",
   "execution_count": 5,
   "id": "1a140b12-41eb-40fc-9dad-228a0b3344f0",
   "metadata": {},
   "outputs": [],
   "source": [
    "master_func(book)"
   ]
  },
  {
   "cell_type": "code",
   "execution_count": null,
   "id": "8a8b314e-88a0-4105-bcdf-cec160d9dbb4",
   "metadata": {},
   "outputs": [],
   "source": []
  }
 ],
 "metadata": {
  "kernelspec": {
   "display_name": "Python 3 (ipykernel)",
   "language": "python",
   "name": "python3"
  },
  "language_info": {
   "codemirror_mode": {
    "name": "ipython",
    "version": 3
   },
   "file_extension": ".py",
   "mimetype": "text/x-python",
   "name": "python",
   "nbconvert_exporter": "python",
   "pygments_lexer": "ipython3",
   "version": "3.11.2"
  }
 },
 "nbformat": 4,
 "nbformat_minor": 5
}
