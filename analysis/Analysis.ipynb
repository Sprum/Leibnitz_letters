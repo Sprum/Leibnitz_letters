{
 "cells": [
  {
   "cell_type": "markdown",
   "source": [
    "## Deskriptive Betrachtung der Quelle\n",
    "Dependenzen und Daten laden:"
   ],
   "metadata": {
    "collapsed": false
   },
   "id": "50256aaeb1af3325"
  },
  {
   "cell_type": "code",
   "execution_count": 1,
   "id": "e0199f46-ac96-45e2-b554-bb55be6df027",
   "metadata": {
    "ExecuteTime": {
     "end_time": "2024-07-17T18:28:11.805861Z",
     "start_time": "2024-07-17T18:28:08.971120600Z"
    }
   },
   "outputs": [],
   "source": [
    "from pathlib import Path\n",
    "from pandas import DataFrame\n",
    "import pandas as pd"
   ]
  },
  {
   "cell_type": "code",
   "execution_count": 2,
   "id": "5a50fbdd-1d31-4a0c-9212-e5faeb3df3a1",
   "metadata": {
    "ExecuteTime": {
     "end_time": "2024-07-17T18:28:11.835262700Z",
     "start_time": "2024-07-17T18:28:11.800848900Z"
    }
   },
   "outputs": [],
   "source": [
    "def read_csv(path: Path) -> DataFrame:\n",
    "    df = pd.read_csv(path)\n",
    "    return df"
   ]
  },
  {
   "cell_type": "code",
   "execution_count": 3,
   "id": "3402744b-663a-4244-aa70-a0fe9cd9e400",
   "metadata": {
    "ExecuteTime": {
     "end_time": "2024-07-17T18:28:11.945872500Z",
     "start_time": "2024-07-17T18:28:11.834261500Z"
    }
   },
   "outputs": [],
   "source": [
    "df = read_csv(\"../data/all.csv\")\n"
   ]
  },
  {
   "cell_type": "markdown",
   "source": [
    "Ermitteln wie Oft die Orte als Absende Orte vorliegen"
   ],
   "metadata": {
    "collapsed": false
   },
   "id": "ea816dc4175161a9"
  },
  {
   "cell_type": "code",
   "execution_count": 4,
   "outputs": [
    {
     "data": {
      "text/plain": "{'Clausthal': 1,\n 'Ferrara': 1,\n 'Wien': 27,\n 'Göhrde': 3,\n 'Braunschweig': 8,\n 'Leipzig': 1,\n 'Oranienburg': 1,\n 'Berlin': 62,\n 'Helmstedt': 1,\n 'Bruchhausen': 1,\n 'Hannover': 173,\n 'Zellerfeld': 1,\n 'Rehburg': 1,\n 'Wolfenbüttel': 14,\n 'Karlsbad': 1,\n 'Modena': 1,\n 'Regensburg': 1,\n 'Wolfenbüttel oder Helmstedt': 1,\n 'Celle': 3,\n 'Linsburg': 11,\n 'Ebstorf': 6,\n 'Torgau': 1,\n 'München': 1,\n 'Herrenhausen': 53,\n 'Lietzenburg': 8}"
     },
     "execution_count": 4,
     "metadata": {},
     "output_type": "execute_result"
    }
   ],
   "source": [
    "from aggregate.letter_map import letter_map, places_set\n",
    "\n",
    "# alle einzelnen Absendeorte initialisieren\n",
    "absender_set = set()\n",
    "for item, val in letter_map.items():\n",
    "    absender_set.add(val[1])\n",
    "# Zählen der Absendeorte intitialisieren\n",
    "absender_count = {}\n",
    "for i in absender_set:\n",
    "    absender_count[i] = 0\n",
    "    \n",
    "# Orte zählen\n",
    "for item, val in letter_map.items():\n",
    "    absender_count[val[1]] += 1\n",
    "    \n",
    "absender_count"
   ],
   "metadata": {
    "collapsed": false,
    "ExecuteTime": {
     "end_time": "2024-07-17T18:28:11.965182200Z",
     "start_time": "2024-07-17T18:28:11.890451800Z"
    }
   },
   "id": "be488293d662f206"
  },
  {
   "cell_type": "markdown",
   "source": [
    "testen, ob die Anzahl der Absendeorte mit der Anzahl der Briefe übereinstimmt:"
   ],
   "metadata": {
    "collapsed": false
   },
   "id": "306c1e19a570e99b"
  },
  {
   "cell_type": "code",
   "execution_count": 5,
   "outputs": [
    {
     "name": "stdout",
     "output_type": "stream",
     "text": [
      "382 382\n"
     ]
    }
   ],
   "source": [
    "\n",
    "absolute_count = 0\n",
    "for item, val in absender_count.items():\n",
    "    absolute_count += val\n",
    "print(absolute_count, len(letter_map))"
   ],
   "metadata": {
    "collapsed": false,
    "ExecuteTime": {
     "end_time": "2024-07-17T18:28:11.973157500Z",
     "start_time": "2024-07-17T18:28:11.942874300Z"
    }
   },
   "id": "784c2aafc2091dcc"
  },
  {
   "cell_type": "markdown",
   "source": [
    "### 1. Zum Address-Verhalten\n",
    "Leibnitz neigt dazu den Absendeort, wenn überhaupt, unten im Brief einzufügen. \n",
    "Sophie von Hannover ist deutlich sorgfältiger und setzt oben meist den Absende Ort ein und schließt mit \"An Herrn Leibnitz in {Leibnitzs Aufenthaltsort}\""
   ],
   "metadata": {
    "collapsed": false
   },
   "id": "103eb5590d598414"
  },
  {
   "cell_type": "markdown",
   "source": [
    "Auslesen, wie hoch der Impact von Absendeort auf Ortsnennung ist:"
   ],
   "metadata": {
    "collapsed": false
   },
   "id": "4bb0a7f2107c8b03"
  },
  {
   "cell_type": "code",
   "execution_count": 6,
   "outputs": [
    {
     "name": "stdout",
     "output_type": "stream",
     "text": [
      "{'Lietzenburg', 'Rehburg', 'Wolfenbüttel oder Helmstedt'}\n"
     ]
    }
   ],
   "source": [
    "# Dataframe mit Absendeorten:\n",
    "absendeorte = df[df['Place'].isin(absender_set)]\n",
    "ab_all = set(absendeorte['Place'])\n",
    "\n",
    "missing_places = absender_set - ab_all\n",
    "print( missing_places)"
   ],
   "metadata": {
    "collapsed": false,
    "ExecuteTime": {
     "end_time": "2024-07-17T18:28:12.183344700Z",
     "start_time": "2024-07-17T18:28:11.983179200Z"
    }
   },
   "id": "5e009e5121474b5a"
  },
  {
   "cell_type": "markdown",
   "source": [
    "## 2. Reise Verhalten\n",
    "\n",
    "TODO: Karte machen?"
   ],
   "metadata": {
    "collapsed": false
   },
   "id": "418f87b1c3ece2cf"
  },
  {
   "cell_type": "code",
   "execution_count": 7,
   "outputs": [
    {
     "name": "stdout",
     "output_type": "stream",
     "text": [
      "Lietzenburg True\n",
      "Rehburg True\n",
      "Wolfenbüttel oder Helmstedt False\n"
     ]
    }
   ],
   "source": [
    "for v in missing_places:\n",
    "    print(v, v in places_set)"
   ],
   "metadata": {
    "collapsed": false,
    "ExecuteTime": {
     "end_time": "2024-07-17T18:28:12.186320100Z",
     "start_time": "2024-07-17T18:28:12.024908100Z"
    }
   },
   "id": "1ab6f9fd556aac58"
  },
  {
   "metadata": {},
   "cell_type": "markdown",
   "source": [
    "## 3. Generelles Briefverhalten\n",
    "Buchstaben gesamt:\n",
    "* Sophie: 315884\n",
    "* Leibnitz: 908847\n",
    "\n",
    "Wörter gesamt: \n",
    "* Sophie: 45842\n",
    "* Leibnitz: 125487"
   ],
   "id": "b4d42af337a2ba16"
  },
  {
   "cell_type": "code",
   "source": [
    "from aggregate.letter_map import letter_map\n",
    "#read in data\n",
    "import pandas as pd\n",
    "places_sophie = pd.read_csv(\"../data/per person/Sophie.csv\")\n",
    "places_leibnitz = pd.read_csv(\"../data/per person/Leibnitz.csv\")"
   ],
   "metadata": {
    "collapsed": false,
    "ExecuteTime": {
     "end_time": "2024-08-02T16:04:52.121286Z",
     "start_time": "2024-08-02T16:04:52.095939Z"
    }
   },
   "id": "87e730195380c4da",
   "outputs": [],
   "execution_count": 1
  },
  {
   "metadata": {
    "ExecuteTime": {
     "end_time": "2024-08-02T16:31:51.231257Z",
     "start_time": "2024-08-02T16:31:50.906339Z"
    }
   },
   "cell_type": "code",
   "source": [
    "# descriptive analysis about letters\n",
    "from pathlib import Path\n",
    "\n",
    "total_characters_sophie = 0\n",
    "total_characters_leibnitz = 0\n",
    "total_words_sophie = 0\n",
    "total_words_leibnitz = 0\n",
    "\n",
    "paths = [path for path in Path(\"../letters/cleaned\").iterdir() if path.is_file()]\n",
    "\n",
    "for path in paths:\n",
    "    letter_num = int(path.stem.split(\"_\")[-1])\n",
    "    active_person = letter_map[letter_num][0]\n",
    "    with open(path, \"r\") as f:\n",
    "        body = f.read()\n",
    "        num_chars = len(body)\n",
    "        num_words = len(body.split(\" \"))\n",
    "        if active_person == \"Sophie\":\n",
    "            total_characters_sophie += num_chars\n",
    "            total_words_sophie += num_words\n",
    "        elif active_person == \"Leibnitz\":\n",
    "            total_characters_leibnitz += num_chars\n",
    "            total_words_leibnitz += num_words\n",
    "        else:\n",
    "            print(f\"found rouge letter: {letter_num}\")\n",
    "        "
   ],
   "id": "f0c0178f53479b99",
   "outputs": [],
   "execution_count": 19
  },
  {
   "metadata": {
    "ExecuteTime": {
     "end_time": "2024-08-02T16:33:16.216391Z",
     "start_time": "2024-08-02T16:33:16.207251Z"
    }
   },
   "cell_type": "code",
   "source": [
    "print(total_characters_sophie, total_words_sophie)\n",
    "print(total_characters_leibnitz, total_words_leibnitz)"
   ],
   "id": "ae6a0135f967aaf6",
   "outputs": [
    {
     "name": "stdout",
     "output_type": "stream",
     "text": [
      "315884 45842\n",
      "908847 125487\n"
     ]
    }
   ],
   "execution_count": 20
  },
  {
   "metadata": {},
   "cell_type": "markdown",
   "source": [
    "### 3.1 Anzahl Briefe\n",
    "* Sophie: 171\n",
    "* Leibnitz: 211"
   ],
   "id": "8f559677eb7e334b"
  },
  {
   "metadata": {
    "ExecuteTime": {
     "end_time": "2024-08-02T16:06:59.308872Z",
     "start_time": "2024-08-02T16:06:59.296637Z"
    }
   },
   "cell_type": "code",
   "source": [
    "# amount of letters per person\n",
    "## Sophie\n",
    "num_letters_sophie = 0\n",
    "## Leibtnitz\n",
    "num_letters_leibnitz = 0\n",
    "\n",
    "for item, val in letter_map.items():\n",
    "    if val[0] == \"Sophie\":\n",
    "        num_letters_sophie += 1\n",
    "    elif val[0] == \"Leibnitz\":\n",
    "        num_letters_leibnitz +=1\n",
    "    else:\n",
    "        print(f\"rouge letter found: {item}\")\n",
    "\n",
    "print(num_letters_sophie, num_letters_leibnitz)        "
   ],
   "id": "cbd3aa9c17ed43ac",
   "outputs": [
    {
     "name": "stdout",
     "output_type": "stream",
     "text": [
      "171 211\n"
     ]
    }
   ],
   "execution_count": 2
  },
  {
   "metadata": {
    "ExecuteTime": {
     "end_time": "2024-08-02T16:40:56.102978Z",
     "start_time": "2024-08-02T16:40:55.846999Z"
    }
   },
   "cell_type": "code",
   "source": [
    "# characters/ words per letter:\n",
    "characters_per_letter_sophie = total_characters_sophie/num_letters_sophie\n",
    "words_per_letter_sophie = total_words_sophie / num_letters_sophie\n",
    "\n",
    "characters_per_letter_leibnitz = total_characters_leibnitz/num_letters_leibnitz\n",
    "words_per_letter_leibnitz = total_words_leibnitz / num_letters_leibnitz\n",
    "\n",
    "print(f\"sophie: characters per letter: {characters_per_letter_sophie} | words per letter: {words_per_letter_sophie}\")\n",
    "print(f\"leibnitz: characters per letter: {characters_per_letter_leibnitz} | words per letter: {words_per_letter_leibnitz}\")\n",
    "\n"
   ],
   "id": "72a25bf2552c0a84",
   "outputs": [
    {
     "name": "stdout",
     "output_type": "stream",
     "text": [
      "sophie: characters per letter: 1847.2748538011697 | words per letter: 268.08187134502924\n",
      "leibnitz: characters per letter: 4307.331753554502 | words per letter: 594.7251184834123\n"
     ]
    }
   ],
   "execution_count": 21
  },
  {
   "metadata": {},
   "cell_type": "markdown",
   "source": [
    "sophie: characters per letter: 1847.2748538011697 | words per letter: 268.08187134502924\n",
    "\n",
    "leibnitz: characters per letter: 4307.331753554502 | words per letter: 594.7251184834123"
   ],
   "id": "d66d8a9beaa6772d"
  },
  {
   "metadata": {},
   "cell_type": "markdown",
   "source": [
    "### 3.2 Orts Dichte in Briefen\n",
    "\n",
    "insgesamt:\n",
    "* Sophie: 1178\n",
    "* Leibnitz: 2231\n",
    "\n",
    "pro brief:\n",
    "* Sophie: 6.888888888888889\n",
    "* Leibnitz: 10.57345971563981\n",
    "\n",
    "Verhältnis von Ort pro Wort in Brief:\n",
    "* Sophie: 38.9151103565365\n",
    "* Leibnitz: 56.24697445091887\n",
    " "
   ],
   "id": "60cfdb868b3038c1"
  },
  {
   "metadata": {
    "ExecuteTime": {
     "end_time": "2024-08-02T16:10:28.572405Z",
     "start_time": "2024-08-02T16:10:28.565938Z"
    }
   },
   "cell_type": "code",
   "source": [
    "# total number of letters per person\n",
    "total_letters_sophie = sum(places_sophie['Count'])\n",
    "total_letters_leibnitz = sum(places_leibnitz['Count'])\n",
    "print(total_letters_sophie, total_letters_leibnitz)"
   ],
   "id": "e76f6baed588dcb6",
   "outputs": [],
   "execution_count": 6
  },
  {
   "metadata": {
    "ExecuteTime": {
     "end_time": "2024-08-02T16:16:39.350537Z",
     "start_time": "2024-08-02T16:16:39.319663Z"
    }
   },
   "cell_type": "code",
   "source": [
    "# place density per letter per person\n",
    "density_sophie = total_letters_sophie / num_letters_sophie\n",
    "density_leibnitz = total_letters_leibnitz / num_letters_leibnitz\n",
    "print(density_sophie, density_leibnitz)"
   ],
   "id": "39b4d21092587c58",
   "outputs": [
    {
     "name": "stdout",
     "output_type": "stream",
     "text": [
      "6.888888888888889 10.57345971563981\n"
     ]
    }
   ],
   "execution_count": 9
  },
  {
   "metadata": {
    "ExecuteTime": {
     "end_time": "2024-08-02T16:44:12.093429Z",
     "start_time": "2024-08-02T16:44:12.042086Z"
    }
   },
   "cell_type": "code",
   "source": [
    "# place per word per letter \n",
    "place_per_word_sophie =  words_per_letter_sophie / density_sophie\n",
    "place_per_word_leibnitz = words_per_letter_leibnitz / density_leibnitz\n",
    "\n",
    "print(place_per_word_sophie, place_per_word_leibnitz)"
   ],
   "id": "dd0a3c199157dadf",
   "outputs": [
    {
     "name": "stdout",
     "output_type": "stream",
     "text": [
      "38.9151103565365 56.24697445091887\n"
     ]
    }
   ],
   "execution_count": 22
  },
  {
   "metadata": {},
   "cell_type": "markdown",
   "source": "### 3.3 Vergleich ob person Orte öfter nennt (normalisiert/nicht normalisiert)",
   "id": "7dbf0d60b3b3d94"
  },
  {
   "metadata": {},
   "cell_type": "code",
   "outputs": [],
   "execution_count": null,
   "source": "",
   "id": "c968f2176191140e"
  }
 ],
 "metadata": {
  "kernelspec": {
   "display_name": "Python 3 (ipykernel)",
   "language": "python",
   "name": "python3"
  },
  "language_info": {
   "codemirror_mode": {
    "name": "ipython",
    "version": 3
   },
   "file_extension": ".py",
   "mimetype": "text/x-python",
   "name": "python",
   "nbconvert_exporter": "python",
   "pygments_lexer": "ipython3",
   "version": "3.11.2"
  }
 },
 "nbformat": 4,
 "nbformat_minor": 5
}
