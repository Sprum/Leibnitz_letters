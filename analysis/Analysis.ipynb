{
 "cells": [
  {
   "cell_type": "markdown",
   "source": [
    "## Deskriptive Betrachtung der Quelle\n",
    "Dependenzen und Daten laden:"
   ],
   "metadata": {
    "collapsed": false
   },
   "id": "50256aaeb1af3325"
  },
  {
   "cell_type": "code",
   "execution_count": 1,
   "id": "e0199f46-ac96-45e2-b554-bb55be6df027",
   "metadata": {
    "ExecuteTime": {
     "end_time": "2024-07-17T15:51:30.285739500Z",
     "start_time": "2024-07-17T15:51:28.595655400Z"
    }
   },
   "outputs": [],
   "source": [
    "from pathlib import Path\n",
    "from pandas import DataFrame\n",
    "import pandas as pd"
   ]
  },
  {
   "cell_type": "code",
   "execution_count": 2,
   "id": "5a50fbdd-1d31-4a0c-9212-e5faeb3df3a1",
   "metadata": {
    "ExecuteTime": {
     "end_time": "2024-07-17T15:51:30.300528Z",
     "start_time": "2024-07-17T15:51:30.299537300Z"
    }
   },
   "outputs": [],
   "source": [
    "def read_csv(path: Path) -> DataFrame:\n",
    "    df = pd.read_csv(path)\n",
    "    return df"
   ]
  },
  {
   "cell_type": "code",
   "execution_count": 3,
   "id": "3402744b-663a-4244-aa70-a0fe9cd9e400",
   "metadata": {
    "ExecuteTime": {
     "end_time": "2024-07-17T15:51:30.348941700Z",
     "start_time": "2024-07-17T15:51:30.300528Z"
    }
   },
   "outputs": [],
   "source": [
    "df = read_csv(\"../data/all.csv\")\n"
   ]
  },
  {
   "cell_type": "markdown",
   "source": [
    "Ermitteln wie Oft die Orte als Absende Orte vorliegen"
   ],
   "metadata": {
    "collapsed": false
   },
   "id": "ea816dc4175161a9"
  },
  {
   "cell_type": "code",
   "execution_count": 4,
   "outputs": [
    {
     "data": {
      "text/plain": "{'Hannover': 173,\n 'Torgau': 1,\n 'Regensburg': 1,\n 'Celle': 3,\n 'Wolfenbüttel oder Helmstedt': 1,\n 'Clausthal': 1,\n 'Ebstorf': 6,\n 'Ferrara': 1,\n 'Modena': 1,\n 'Helmstedt': 1,\n 'Wien': 27,\n 'Braunschweig': 8,\n 'Leipzig': 1,\n 'Linsburg': 11,\n 'Berlin': 62,\n 'Karlsbad': 1,\n 'Rehburg': 1,\n 'Zellerfeld': 1,\n 'Herrenhausen': 53,\n 'Bruchhausen': 1,\n 'Göhrde': 3,\n 'München': 1,\n 'Lietzenburg': 8,\n 'Wolfenbüttel': 14,\n 'Oranienburg': 1}"
     },
     "execution_count": 4,
     "metadata": {},
     "output_type": "execute_result"
    }
   ],
   "source": [
    "from aggregate.letter_map import letter_map\n",
    "# alle einzelnen Absendeorte initialisieren\n",
    "absender_set = set()\n",
    "for item, val in letter_map.items():\n",
    "    absender_set.add(val[1])\n",
    "# Zählen der Absendeorte intitialisieren\n",
    "absender_count = {}\n",
    "for i in absender_set:\n",
    "    absender_count[i] = 0\n",
    "    \n",
    "# Orte zählen\n",
    "for item, val in letter_map.items():\n",
    "    absender_count[val[1]] += 1\n",
    "    \n",
    "absender_count"
   ],
   "metadata": {
    "collapsed": false,
    "ExecuteTime": {
     "end_time": "2024-07-17T15:51:30.493488700Z",
     "start_time": "2024-07-17T15:51:30.344943300Z"
    }
   },
   "id": "be488293d662f206"
  },
  {
   "cell_type": "markdown",
   "source": [
    "testen, ob die Anzahl der Absendeorte mit der Anzahl der Briefe übereinstimmt:"
   ],
   "metadata": {
    "collapsed": false
   },
   "id": "306c1e19a570e99b"
  },
  {
   "cell_type": "code",
   "execution_count": 5,
   "outputs": [
    {
     "name": "stdout",
     "output_type": "stream",
     "text": [
      "382 382\n"
     ]
    }
   ],
   "source": [
    "\n",
    "absolute_count = 0\n",
    "for item, val in absender_count.items():\n",
    "    absolute_count += val\n",
    "print(absolute_count, len(letter_map))"
   ],
   "metadata": {
    "collapsed": false,
    "ExecuteTime": {
     "end_time": "2024-07-17T15:51:30.508519500Z",
     "start_time": "2024-07-17T15:51:30.492474300Z"
    }
   },
   "id": "784c2aafc2091dcc"
  },
  {
   "cell_type": "markdown",
   "source": [
    "### 1. Zum Address-Verhalten\n",
    "Leibnitz neigt dazu den Absendeort, wenn überhaupt, unten im Brief einzufügen. \n",
    "Sophie von Hannover ist deutlich sorgfältiger und setzt oben meist den Absende Ort ein und schließt mit \"An Herrn Leibnitz in {Leibnitzs Aufenthaltsort}\""
   ],
   "metadata": {
    "collapsed": false
   },
   "id": "103eb5590d598414"
  },
  {
   "cell_type": "markdown",
   "source": [
    "Auslesen, wie hoch der Impact von Absendeort auf Ortsnennung ist:"
   ],
   "metadata": {
    "collapsed": false
   },
   "id": "4bb0a7f2107c8b03"
  },
  {
   "cell_type": "code",
   "execution_count": 6,
   "outputs": [
    {
     "name": "stdout",
     "output_type": "stream",
     "text": [
      "{'Rehburg', 'Wolfenbüttel oder Helmstedt', 'Braunschweig'}\n"
     ]
    }
   ],
   "source": [
    "# Dataframe mit Absendeorten:\n",
    "absendeorte = df[df['Place'].isin(absender_set)]\n",
    "ab_all = set(absendeorte['Place'])\n",
    "\n",
    "missing_places = absender_set - ab_all\n",
    "print( missing_places)"
   ],
   "metadata": {
    "collapsed": false,
    "ExecuteTime": {
     "end_time": "2024-07-17T15:51:30.606602900Z",
     "start_time": "2024-07-17T15:51:30.508519500Z"
    }
   },
   "id": "5e009e5121474b5a"
  },
  {
   "cell_type": "markdown",
   "source": [
    "## 2. Reise Verhalten\n",
    "\n",
    "TODO: Karte machen?"
   ],
   "metadata": {
    "collapsed": false
   },
   "id": "418f87b1c3ece2cf"
  },
  {
   "cell_type": "code",
   "execution_count": 7,
   "outputs": [
    {
     "name": "stdout",
     "output_type": "stream",
     "text": [
      "Rehburg False\n",
      "Wolfenbüttel oder Helmstedt False\n",
      "Braunschweig False\n"
     ]
    }
   ],
   "source": [
    "miss = {'Rehburg', 'Braunschweig', 'Wolfenbüttel oder Helmstedt'}\n",
    "for v in miss:\n",
    "    print(v, v in letter_map)"
   ],
   "metadata": {
    "collapsed": false,
    "ExecuteTime": {
     "end_time": "2024-07-17T15:51:30.607607100Z",
     "start_time": "2024-07-17T15:51:30.540601200Z"
    }
   },
   "id": "1ab6f9fd556aac58"
  },
  {
   "cell_type": "code",
   "execution_count": 7,
   "outputs": [],
   "source": [],
   "metadata": {
    "collapsed": false,
    "ExecuteTime": {
     "end_time": "2024-07-17T15:51:30.608604200Z",
     "start_time": "2024-07-17T15:51:30.569609800Z"
    }
   },
   "id": "cbd3aa9c17ed43ac"
  }
 ],
 "metadata": {
  "kernelspec": {
   "display_name": "Python 3 (ipykernel)",
   "language": "python",
   "name": "python3"
  },
  "language_info": {
   "codemirror_mode": {
    "name": "ipython",
    "version": 3
   },
   "file_extension": ".py",
   "mimetype": "text/x-python",
   "name": "python",
   "nbconvert_exporter": "python",
   "pygments_lexer": "ipython3",
   "version": "3.11.2"
  }
 },
 "nbformat": 4,
 "nbformat_minor": 5
}
