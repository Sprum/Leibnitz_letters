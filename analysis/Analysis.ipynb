{
 "cells": [
  {
   "cell_type": "markdown",
   "source": [
    "## Deskriptive Betrachtung der Quelle\n",
    "Dependenzen und Daten laden:"
   ],
   "metadata": {
    "collapsed": false
   },
   "id": "50256aaeb1af3325"
  },
  {
   "cell_type": "code",
   "id": "e0199f46-ac96-45e2-b554-bb55be6df027",
   "metadata": {
    "ExecuteTime": {
     "end_time": "2024-12-17T17:23:15.351757Z",
     "start_time": "2024-12-17T17:23:09.866158Z"
    }
   },
   "source": [
    "from pathlib import Path\n",
    "from pandas import DataFrame\n",
    "import pandas as pd"
   ],
   "outputs": [],
   "execution_count": 1
  },
  {
   "cell_type": "code",
   "id": "5a50fbdd-1d31-4a0c-9212-e5faeb3df3a1",
   "metadata": {
    "ExecuteTime": {
     "end_time": "2024-12-17T17:23:15.372290Z",
     "start_time": "2024-12-17T17:23:15.358756Z"
    }
   },
   "source": [
    "def read_csv(path: Path) -> DataFrame:\n",
    "    df = pd.read_csv(path)\n",
    "    return df"
   ],
   "outputs": [],
   "execution_count": 2
  },
  {
   "cell_type": "code",
   "id": "3402744b-663a-4244-aa70-a0fe9cd9e400",
   "metadata": {
    "ExecuteTime": {
     "end_time": "2024-12-17T17:23:15.411838Z",
     "start_time": "2024-12-17T17:23:15.375289Z"
    }
   },
   "source": [
    "df = read_csv(\"../data/all.csv\")\n"
   ],
   "outputs": [],
   "execution_count": 3
  },
  {
   "cell_type": "markdown",
   "source": [
    "Ermitteln wie Oft die Orte als Absende Orte vorliegen"
   ],
   "metadata": {
    "collapsed": false
   },
   "id": "ea816dc4175161a9"
  },
  {
   "cell_type": "code",
   "source": [
    "from aggregate.letter_map import letter_map, places_set\n",
    "\n",
    "# alle einzelnen Absendeorte initialisieren\n",
    "absender_set = set()\n",
    "for item, val in letter_map.items():\n",
    "    absender_set.add(val[1])\n",
    "# Zählen der Absendeorte intitialisieren\n",
    "absender_count = {}\n",
    "for i in absender_set:\n",
    "    absender_count[i] = 0\n",
    "    \n",
    "# Orte zählen\n",
    "for item, val in letter_map.items():\n",
    "    absender_count[val[1]] += 1\n",
    "    \n",
    "absender_count"
   ],
   "metadata": {
    "collapsed": false,
    "ExecuteTime": {
     "end_time": "2024-12-17T17:23:15.454610Z",
     "start_time": "2024-12-17T17:23:15.414837Z"
    }
   },
   "id": "be488293d662f206",
   "outputs": [
    {
     "data": {
      "text/plain": [
       "{'Göhrde': 3,\n",
       " 'Modena': 1,\n",
       " 'Torgau': 1,\n",
       " 'München': 1,\n",
       " 'Celle': 3,\n",
       " 'Herrenhausen': 53,\n",
       " 'Bruchhausen': 1,\n",
       " 'Oranienburg': 1,\n",
       " 'Clausthal': 1,\n",
       " 'Linsburg': 11,\n",
       " 'Lietzenburg': 8,\n",
       " 'Wien': 27,\n",
       " 'Berlin': 62,\n",
       " 'Hannover': 173,\n",
       " 'Braunschweig': 8,\n",
       " 'Zellerfeld': 1,\n",
       " 'Regensburg': 1,\n",
       " 'Ebstorf': 6,\n",
       " 'Karlsbad': 1,\n",
       " 'Leipzig': 1,\n",
       " 'Rehburg': 1,\n",
       " 'Wolfenbüttel': 14,\n",
       " 'Helmstedt': 1,\n",
       " 'Ferrara': 1,\n",
       " 'Wolfenbüttel oder Helmstedt': 1}"
      ]
     },
     "execution_count": 4,
     "metadata": {},
     "output_type": "execute_result"
    }
   ],
   "execution_count": 4
  },
  {
   "cell_type": "markdown",
   "source": [
    "testen, ob die Anzahl der Absendeorte mit der Anzahl der Briefe übereinstimmt:"
   ],
   "metadata": {
    "collapsed": false
   },
   "id": "306c1e19a570e99b"
  },
  {
   "cell_type": "code",
   "source": [
    "\n",
    "absolute_count = 0\n",
    "for item, val in absender_count.items():\n",
    "    absolute_count += val\n",
    "print(absolute_count, len(letter_map))"
   ],
   "metadata": {
    "collapsed": false,
    "ExecuteTime": {
     "end_time": "2024-12-17T17:23:15.488595Z",
     "start_time": "2024-12-17T17:23:15.459608Z"
    }
   },
   "id": "784c2aafc2091dcc",
   "outputs": [
    {
     "name": "stdout",
     "output_type": "stream",
     "text": [
      "382 382\n"
     ]
    }
   ],
   "execution_count": 5
  },
  {
   "cell_type": "markdown",
   "source": [
    "### 1. Zum Address-Verhalten\n",
    "Leibnitz neigt dazu den Absendeort, wenn überhaupt, unten im Brief einzufügen. \n",
    "Sophie von Hannover ist deutlich sorgfältiger und setzt oben meist den Absende Ort ein und schließt mit \"An Herrn Leibnitz in {Leibnitzs Aufenthaltsort}\""
   ],
   "metadata": {
    "collapsed": false
   },
   "id": "103eb5590d598414"
  },
  {
   "cell_type": "markdown",
   "source": [
    "Auslesen, wie hoch der Impact von Absendeort auf Ortsnennung ist:"
   ],
   "metadata": {
    "collapsed": false
   },
   "id": "4bb0a7f2107c8b03"
  },
  {
   "cell_type": "code",
   "source": [
    "# Dataframe mit Absendeorten:\n",
    "absendeorte = df[df['Place'].isin(absender_set)]\n",
    "ab_all = set(absendeorte['Place'])\n",
    "\n",
    "missing_places = absender_set - ab_all\n",
    "print( missing_places)"
   ],
   "metadata": {
    "collapsed": false,
    "ExecuteTime": {
     "end_time": "2024-12-17T17:23:15.533597Z",
     "start_time": "2024-12-17T17:23:15.493602Z"
    }
   },
   "id": "5e009e5121474b5a",
   "outputs": [
    {
     "name": "stdout",
     "output_type": "stream",
     "text": [
      "{'Lietzenburg', 'Rehburg', 'Wolfenbüttel oder Helmstedt'}\n"
     ]
    }
   ],
   "execution_count": 6
  },
  {
   "cell_type": "markdown",
   "source": [
    "## 2. Reise Verhalten\n",
    "\n",
    "TODO: Karte machen?"
   ],
   "metadata": {
    "collapsed": false
   },
   "id": "418f87b1c3ece2cf"
  },
  {
   "cell_type": "code",
   "source": [
    "for v in missing_places:\n",
    "    print(v, v in places_set)"
   ],
   "metadata": {
    "collapsed": false,
    "ExecuteTime": {
     "end_time": "2024-12-17T17:23:15.553695Z",
     "start_time": "2024-12-17T17:23:15.537602Z"
    }
   },
   "id": "1ab6f9fd556aac58",
   "outputs": [
    {
     "name": "stdout",
     "output_type": "stream",
     "text": [
      "Lietzenburg True\n",
      "Rehburg True\n",
      "Wolfenbüttel oder Helmstedt False\n"
     ]
    }
   ],
   "execution_count": 7
  },
  {
   "metadata": {},
   "cell_type": "markdown",
   "source": [
    "## 3. Generelles Briefverhalten\n",
    "Buchstaben gesamt:\n",
    "* Sophie: 315884\n",
    "* Leibnitz: 908847\n",
    "\n",
    "Wörter gesamt: \n",
    "* Sophie: 45842\n",
    "* Leibnitz: 125487"
   ],
   "id": "b4d42af337a2ba16"
  },
  {
   "cell_type": "code",
   "source": [
    "from aggregate.letter_map import letter_map\n",
    "#read in data\n",
    "import pandas as pd\n",
    "places_sophie = pd.read_csv(\"../data/per person/Sophie.csv\")\n",
    "places_leibnitz = pd.read_csv(\"../data/per person/Leibnitz.csv\")"
   ],
   "metadata": {
    "collapsed": false,
    "ExecuteTime": {
     "end_time": "2024-12-17T17:23:15.596430Z",
     "start_time": "2024-12-17T17:23:15.557700Z"
    }
   },
   "id": "87e730195380c4da",
   "outputs": [],
   "execution_count": 8
  },
  {
   "metadata": {
    "ExecuteTime": {
     "end_time": "2024-12-17T17:23:18.061842Z",
     "start_time": "2024-12-17T17:23:15.604425Z"
    }
   },
   "cell_type": "code",
   "source": [
    "# descriptive analysis about letters\n",
    "from pathlib import Path\n",
    "\n",
    "total_characters_sophie = 0\n",
    "total_characters_leibnitz = 0\n",
    "total_words_sophie = 0\n",
    "total_words_leibnitz = 0\n",
    "\n",
    "paths = [path for path in Path(\"../letters/cleaned\").iterdir() if path.is_file()]\n",
    "\n",
    "for path in paths:\n",
    "    letter_num = int(path.stem.split(\"_\")[-1])\n",
    "    active_person = letter_map[letter_num][0]\n",
    "    with open(path, \"r\") as f:\n",
    "        body = f.read()\n",
    "        num_chars = len(body)\n",
    "        num_words = len(body.split(\" \"))\n",
    "        if active_person == \"Sophie\":\n",
    "            total_characters_sophie += num_chars\n",
    "            total_words_sophie += num_words\n",
    "        elif active_person == \"Leibnitz\":\n",
    "            total_characters_leibnitz += num_chars\n",
    "            total_words_leibnitz += num_words\n",
    "        else:\n",
    "            print(f\"found rouge letter: {letter_num}\")\n",
    "        "
   ],
   "id": "f0c0178f53479b99",
   "outputs": [],
   "execution_count": 9
  },
  {
   "metadata": {
    "ExecuteTime": {
     "end_time": "2024-12-17T17:23:18.071186Z",
     "start_time": "2024-12-17T17:23:18.064369Z"
    }
   },
   "cell_type": "code",
   "source": [
    "print(total_characters_sophie, total_words_sophie)\n",
    "print(total_characters_leibnitz, total_words_leibnitz)"
   ],
   "id": "ae6a0135f967aaf6",
   "outputs": [
    {
     "name": "stdout",
     "output_type": "stream",
     "text": [
      "315884 45842\n",
      "908847 125487\n"
     ]
    }
   ],
   "execution_count": 10
  },
  {
   "metadata": {},
   "cell_type": "markdown",
   "source": [
    "### 3.1 Anzahl Briefe\n",
    "* Sophie: 171\n",
    "* Leibnitz: 211"
   ],
   "id": "8f559677eb7e334b"
  },
  {
   "metadata": {
    "ExecuteTime": {
     "end_time": "2024-12-17T17:23:18.092088Z",
     "start_time": "2024-12-17T17:23:18.073191Z"
    }
   },
   "cell_type": "code",
   "source": [
    "# amount of letters per person\n",
    "## Sophie\n",
    "num_letters_sophie = 0\n",
    "## Leibtnitz\n",
    "num_letters_leibnitz = 0\n",
    "\n",
    "for item, val in letter_map.items():\n",
    "    if val[0] == \"Sophie\":\n",
    "        num_letters_sophie += 1\n",
    "    elif val[0] == \"Leibnitz\":\n",
    "        num_letters_leibnitz +=1\n",
    "    else:\n",
    "        print(f\"rouge letter found: {item}\")\n",
    "\n",
    "print(num_letters_sophie, num_letters_leibnitz)        "
   ],
   "id": "cbd3aa9c17ed43ac",
   "outputs": [
    {
     "name": "stdout",
     "output_type": "stream",
     "text": [
      "171 211\n"
     ]
    }
   ],
   "execution_count": 11
  },
  {
   "metadata": {
    "ExecuteTime": {
     "end_time": "2024-12-17T17:23:18.107690Z",
     "start_time": "2024-12-17T17:23:18.095089Z"
    }
   },
   "cell_type": "code",
   "source": [
    "# characters/ words per letter:\n",
    "characters_per_letter_sophie = total_characters_sophie/num_letters_sophie\n",
    "words_per_letter_sophie = total_words_sophie / num_letters_sophie\n",
    "\n",
    "characters_per_letter_leibnitz = total_characters_leibnitz/num_letters_leibnitz\n",
    "words_per_letter_leibnitz = total_words_leibnitz / num_letters_leibnitz\n",
    "\n",
    "print(f\"sophie: characters per letter: {characters_per_letter_sophie} | words per letter: {words_per_letter_sophie}\")\n",
    "print(f\"leibnitz: characters per letter: {characters_per_letter_leibnitz} | words per letter: {words_per_letter_leibnitz}\")\n",
    "\n"
   ],
   "id": "72a25bf2552c0a84",
   "outputs": [
    {
     "name": "stdout",
     "output_type": "stream",
     "text": [
      "sophie: characters per letter: 1847.2748538011697 | words per letter: 268.08187134502924\n",
      "leibnitz: characters per letter: 4307.331753554502 | words per letter: 594.7251184834123\n"
     ]
    }
   ],
   "execution_count": 12
  },
  {
   "metadata": {},
   "cell_type": "markdown",
   "source": [
    "sophie: characters per letter: 1847.2748538011697 | words per letter: 268.08187134502924\n",
    "\n",
    "leibnitz: characters per letter: 4307.331753554502 | words per letter: 594.7251184834123"
   ],
   "id": "d66d8a9beaa6772d"
  },
  {
   "metadata": {},
   "cell_type": "markdown",
   "source": [
    "### 3.2 Orts Dichte in Briefen\n",
    "\n",
    "insgesamt:\n",
    "* Sophie: 1178\n",
    "* Leibnitz: 2231\n",
    "\n",
    "pro brief:\n",
    "* Sophie: 6.888888888888889\n",
    "* Leibnitz: 10.57345971563981\n",
    "\n",
    "Verhältnis von Ort pro Wort in Brief:\n",
    "* Sophie: 38.9151103565365\n",
    "* Leibnitz: 56.24697445091887\n",
    " "
   ],
   "id": "60cfdb868b3038c1"
  },
  {
   "metadata": {
    "ExecuteTime": {
     "end_time": "2024-12-17T17:23:18.124005Z",
     "start_time": "2024-12-17T17:23:18.111687Z"
    }
   },
   "cell_type": "code",
   "source": [
    "# total number of letters per person\n",
    "total_letters_sophie = sum(places_sophie['Count'])\n",
    "total_letters_leibnitz = sum(places_leibnitz['Count'])\n",
    "print(total_letters_sophie, total_letters_leibnitz)"
   ],
   "id": "e76f6baed588dcb6",
   "outputs": [
    {
     "name": "stdout",
     "output_type": "stream",
     "text": [
      "1178 2231\n"
     ]
    }
   ],
   "execution_count": 13
  },
  {
   "metadata": {
    "ExecuteTime": {
     "end_time": "2024-12-17T17:23:18.139549Z",
     "start_time": "2024-12-17T17:23:18.132006Z"
    }
   },
   "cell_type": "code",
   "source": [
    "# place density per letter per person\n",
    "density_sophie = total_letters_sophie / num_letters_sophie\n",
    "density_leibnitz = total_letters_leibnitz / num_letters_leibnitz\n",
    "print(density_sophie, density_leibnitz)"
   ],
   "id": "39b4d21092587c58",
   "outputs": [
    {
     "name": "stdout",
     "output_type": "stream",
     "text": [
      "6.888888888888889 10.57345971563981\n"
     ]
    }
   ],
   "execution_count": 14
  },
  {
   "metadata": {
    "ExecuteTime": {
     "end_time": "2024-12-17T17:23:18.152533Z",
     "start_time": "2024-12-17T17:23:18.142550Z"
    }
   },
   "cell_type": "code",
   "source": [
    "# place per word per letter \n",
    "place_per_word_sophie =  words_per_letter_sophie / density_sophie\n",
    "place_per_word_leibnitz = words_per_letter_leibnitz / density_leibnitz\n",
    "\n",
    "print(place_per_word_sophie, place_per_word_leibnitz)"
   ],
   "id": "dd0a3c199157dadf",
   "outputs": [
    {
     "name": "stdout",
     "output_type": "stream",
     "text": [
      "38.9151103565365 56.24697445091887\n"
     ]
    }
   ],
   "execution_count": 15
  },
  {
   "metadata": {},
   "cell_type": "markdown",
   "source": "### 3.3 Vergleich ob person Orte öfter nennt (normalisiert/nicht normalisiert)",
   "id": "7dbf0d60b3b3d94"
  },
  {
   "metadata": {
    "ExecuteTime": {
     "end_time": "2024-12-17T17:23:18.172666Z",
     "start_time": "2024-12-17T17:23:18.156548Z"
    }
   },
   "cell_type": "code",
   "source": [
    "import pandas as pd\n",
    "\n",
    "sophie = pd.read_csv(\"../data/per person/Sophie.csv\")\n",
    "leibnitz = pd.read_csv(\"../data/per person/Leibnitz.csv\")"
   ],
   "id": "c968f2176191140e",
   "outputs": [],
   "execution_count": 16
  },
  {
   "metadata": {
    "ExecuteTime": {
     "end_time": "2024-12-17T17:23:18.208179Z",
     "start_time": "2024-12-17T17:23:18.175670Z"
    }
   },
   "cell_type": "code",
   "source": "sophie\n",
   "id": "af8d0f5ddc4ca779",
   "outputs": [
    {
     "data": {
      "text/plain": [
       "            Place  Count\n",
       "0          Aachen      2\n",
       "1            Adda      1\n",
       "2          Afrika      1\n",
       "3       Amsterdam      2\n",
       "4          Anhalt      5\n",
       "..            ...    ...\n",
       "194  Wolfenbüttel     22\n",
       "195   Württemberg      3\n",
       "196          Zell      1\n",
       "197   Zweibrücken      3\n",
       "198       Ägypten      1\n",
       "\n",
       "[199 rows x 2 columns]"
      ],
      "text/html": [
       "<div>\n",
       "<style scoped>\n",
       "    .dataframe tbody tr th:only-of-type {\n",
       "        vertical-align: middle;\n",
       "    }\n",
       "\n",
       "    .dataframe tbody tr th {\n",
       "        vertical-align: top;\n",
       "    }\n",
       "\n",
       "    .dataframe thead th {\n",
       "        text-align: right;\n",
       "    }\n",
       "</style>\n",
       "<table border=\"1\" class=\"dataframe\">\n",
       "  <thead>\n",
       "    <tr style=\"text-align: right;\">\n",
       "      <th></th>\n",
       "      <th>Place</th>\n",
       "      <th>Count</th>\n",
       "    </tr>\n",
       "  </thead>\n",
       "  <tbody>\n",
       "    <tr>\n",
       "      <th>0</th>\n",
       "      <td>Aachen</td>\n",
       "      <td>2</td>\n",
       "    </tr>\n",
       "    <tr>\n",
       "      <th>1</th>\n",
       "      <td>Adda</td>\n",
       "      <td>1</td>\n",
       "    </tr>\n",
       "    <tr>\n",
       "      <th>2</th>\n",
       "      <td>Afrika</td>\n",
       "      <td>1</td>\n",
       "    </tr>\n",
       "    <tr>\n",
       "      <th>3</th>\n",
       "      <td>Amsterdam</td>\n",
       "      <td>2</td>\n",
       "    </tr>\n",
       "    <tr>\n",
       "      <th>4</th>\n",
       "      <td>Anhalt</td>\n",
       "      <td>5</td>\n",
       "    </tr>\n",
       "    <tr>\n",
       "      <th>...</th>\n",
       "      <td>...</td>\n",
       "      <td>...</td>\n",
       "    </tr>\n",
       "    <tr>\n",
       "      <th>194</th>\n",
       "      <td>Wolfenbüttel</td>\n",
       "      <td>22</td>\n",
       "    </tr>\n",
       "    <tr>\n",
       "      <th>195</th>\n",
       "      <td>Württemberg</td>\n",
       "      <td>3</td>\n",
       "    </tr>\n",
       "    <tr>\n",
       "      <th>196</th>\n",
       "      <td>Zell</td>\n",
       "      <td>1</td>\n",
       "    </tr>\n",
       "    <tr>\n",
       "      <th>197</th>\n",
       "      <td>Zweibrücken</td>\n",
       "      <td>3</td>\n",
       "    </tr>\n",
       "    <tr>\n",
       "      <th>198</th>\n",
       "      <td>Ägypten</td>\n",
       "      <td>1</td>\n",
       "    </tr>\n",
       "  </tbody>\n",
       "</table>\n",
       "<p>199 rows × 2 columns</p>\n",
       "</div>"
      ]
     },
     "execution_count": 17,
     "metadata": {},
     "output_type": "execute_result"
    }
   ],
   "execution_count": 17
  },
  {
   "metadata": {
    "ExecuteTime": {
     "end_time": "2024-12-17T17:23:18.227350Z",
     "start_time": "2024-12-17T17:23:18.211166Z"
    }
   },
   "cell_type": "code",
   "source": "leibnitz",
   "id": "7040b14b594642f6",
   "outputs": [
    {
     "data": {
      "text/plain": [
       "         Place  Count\n",
       "0       Afrika      2\n",
       "1       Ahlden      2\n",
       "2        Alpen      1\n",
       "3       Alster      1\n",
       "4      Altdorf      3\n",
       "..         ...    ...\n",
       "353     Ziesar      1\n",
       "354    Ägypten      2\n",
       "355    Ägypter      3\n",
       "356  Äthiopien      1\n",
       "357       Ätna      1\n",
       "\n",
       "[358 rows x 2 columns]"
      ],
      "text/html": [
       "<div>\n",
       "<style scoped>\n",
       "    .dataframe tbody tr th:only-of-type {\n",
       "        vertical-align: middle;\n",
       "    }\n",
       "\n",
       "    .dataframe tbody tr th {\n",
       "        vertical-align: top;\n",
       "    }\n",
       "\n",
       "    .dataframe thead th {\n",
       "        text-align: right;\n",
       "    }\n",
       "</style>\n",
       "<table border=\"1\" class=\"dataframe\">\n",
       "  <thead>\n",
       "    <tr style=\"text-align: right;\">\n",
       "      <th></th>\n",
       "      <th>Place</th>\n",
       "      <th>Count</th>\n",
       "    </tr>\n",
       "  </thead>\n",
       "  <tbody>\n",
       "    <tr>\n",
       "      <th>0</th>\n",
       "      <td>Afrika</td>\n",
       "      <td>2</td>\n",
       "    </tr>\n",
       "    <tr>\n",
       "      <th>1</th>\n",
       "      <td>Ahlden</td>\n",
       "      <td>2</td>\n",
       "    </tr>\n",
       "    <tr>\n",
       "      <th>2</th>\n",
       "      <td>Alpen</td>\n",
       "      <td>1</td>\n",
       "    </tr>\n",
       "    <tr>\n",
       "      <th>3</th>\n",
       "      <td>Alster</td>\n",
       "      <td>1</td>\n",
       "    </tr>\n",
       "    <tr>\n",
       "      <th>4</th>\n",
       "      <td>Altdorf</td>\n",
       "      <td>3</td>\n",
       "    </tr>\n",
       "    <tr>\n",
       "      <th>...</th>\n",
       "      <td>...</td>\n",
       "      <td>...</td>\n",
       "    </tr>\n",
       "    <tr>\n",
       "      <th>353</th>\n",
       "      <td>Ziesar</td>\n",
       "      <td>1</td>\n",
       "    </tr>\n",
       "    <tr>\n",
       "      <th>354</th>\n",
       "      <td>Ägypten</td>\n",
       "      <td>2</td>\n",
       "    </tr>\n",
       "    <tr>\n",
       "      <th>355</th>\n",
       "      <td>Ägypter</td>\n",
       "      <td>3</td>\n",
       "    </tr>\n",
       "    <tr>\n",
       "      <th>356</th>\n",
       "      <td>Äthiopien</td>\n",
       "      <td>1</td>\n",
       "    </tr>\n",
       "    <tr>\n",
       "      <th>357</th>\n",
       "      <td>Ätna</td>\n",
       "      <td>1</td>\n",
       "    </tr>\n",
       "  </tbody>\n",
       "</table>\n",
       "<p>358 rows × 2 columns</p>\n",
       "</div>"
      ]
     },
     "execution_count": 18,
     "metadata": {},
     "output_type": "execute_result"
    }
   ],
   "execution_count": 18
  },
  {
   "metadata": {
    "ExecuteTime": {
     "end_time": "2024-12-17T17:23:18.247351Z",
     "start_time": "2024-12-17T17:23:18.230351Z"
    }
   },
   "cell_type": "code",
   "source": "all = pd.read_csv(\"../data/all.csv\")",
   "id": "5a5b2d9b65180b2",
   "outputs": [],
   "execution_count": 19
  },
  {
   "metadata": {
    "ExecuteTime": {
     "end_time": "2024-12-17T17:23:18.270100Z",
     "start_time": "2024-12-17T17:23:18.252351Z"
    }
   },
   "cell_type": "code",
   "source": "all",
   "id": "98c1f8d693ff6f37",
   "outputs": [
    {
     "data": {
      "text/plain": [
       "           Place  Count\n",
       "0         Aachen      2\n",
       "1           Adda      1\n",
       "2         Afrika      3\n",
       "3         Ahlden      2\n",
       "4          Alpen      1\n",
       "..           ...    ...\n",
       "407  Zweibrücken      3\n",
       "408      Ägypten      3\n",
       "409      Ägypter      3\n",
       "410    Äthiopien      1\n",
       "411         Ätna      1\n",
       "\n",
       "[412 rows x 2 columns]"
      ],
      "text/html": [
       "<div>\n",
       "<style scoped>\n",
       "    .dataframe tbody tr th:only-of-type {\n",
       "        vertical-align: middle;\n",
       "    }\n",
       "\n",
       "    .dataframe tbody tr th {\n",
       "        vertical-align: top;\n",
       "    }\n",
       "\n",
       "    .dataframe thead th {\n",
       "        text-align: right;\n",
       "    }\n",
       "</style>\n",
       "<table border=\"1\" class=\"dataframe\">\n",
       "  <thead>\n",
       "    <tr style=\"text-align: right;\">\n",
       "      <th></th>\n",
       "      <th>Place</th>\n",
       "      <th>Count</th>\n",
       "    </tr>\n",
       "  </thead>\n",
       "  <tbody>\n",
       "    <tr>\n",
       "      <th>0</th>\n",
       "      <td>Aachen</td>\n",
       "      <td>2</td>\n",
       "    </tr>\n",
       "    <tr>\n",
       "      <th>1</th>\n",
       "      <td>Adda</td>\n",
       "      <td>1</td>\n",
       "    </tr>\n",
       "    <tr>\n",
       "      <th>2</th>\n",
       "      <td>Afrika</td>\n",
       "      <td>3</td>\n",
       "    </tr>\n",
       "    <tr>\n",
       "      <th>3</th>\n",
       "      <td>Ahlden</td>\n",
       "      <td>2</td>\n",
       "    </tr>\n",
       "    <tr>\n",
       "      <th>4</th>\n",
       "      <td>Alpen</td>\n",
       "      <td>1</td>\n",
       "    </tr>\n",
       "    <tr>\n",
       "      <th>...</th>\n",
       "      <td>...</td>\n",
       "      <td>...</td>\n",
       "    </tr>\n",
       "    <tr>\n",
       "      <th>407</th>\n",
       "      <td>Zweibrücken</td>\n",
       "      <td>3</td>\n",
       "    </tr>\n",
       "    <tr>\n",
       "      <th>408</th>\n",
       "      <td>Ägypten</td>\n",
       "      <td>3</td>\n",
       "    </tr>\n",
       "    <tr>\n",
       "      <th>409</th>\n",
       "      <td>Ägypter</td>\n",
       "      <td>3</td>\n",
       "    </tr>\n",
       "    <tr>\n",
       "      <th>410</th>\n",
       "      <td>Äthiopien</td>\n",
       "      <td>1</td>\n",
       "    </tr>\n",
       "    <tr>\n",
       "      <th>411</th>\n",
       "      <td>Ätna</td>\n",
       "      <td>1</td>\n",
       "    </tr>\n",
       "  </tbody>\n",
       "</table>\n",
       "<p>412 rows × 2 columns</p>\n",
       "</div>"
      ]
     },
     "execution_count": 20,
     "metadata": {},
     "output_type": "execute_result"
    }
   ],
   "execution_count": 20
  },
  {
   "metadata": {
    "ExecuteTime": {
     "end_time": "2024-12-17T17:23:18.284676Z",
     "start_time": "2024-12-17T17:23:18.273099Z"
    }
   },
   "cell_type": "code",
   "source": [
    "from aggregate.letter_map import nationalities_ethnicities\n",
    "et = all[all['Place'].isin(nationalities_ethnicities)]"
   ],
   "id": "5fe938e9bc0183e1",
   "outputs": [],
   "execution_count": 21
  },
  {
   "metadata": {
    "ExecuteTime": {
     "end_time": "2024-12-17T17:23:18.311299Z",
     "start_time": "2024-12-17T17:23:18.288674Z"
    }
   },
   "cell_type": "code",
   "source": "et",
   "id": "1ba5299e180f3de6",
   "outputs": [
    {
     "data": {
      "text/plain": [
       "           Place  Count\n",
       "15      Armenier      1\n",
       "19    Australier      1\n",
       "88     Engländer     40\n",
       "94      Europäer      1\n",
       "101     Franzose      2\n",
       "141    Holländer     15\n",
       "154    Italiener      6\n",
       "193      Litauer      1\n",
       "283         Pole      1\n",
       "288  Portugiesen      1\n",
       "312        Römer      6\n",
       "326      Schotte      4\n",
       "330      Schwede      1\n",
       "347      Spanier     11\n",
       "381   Venezianer      5\n",
       "386     Walachen      2\n",
       "409      Ägypter      3"
      ],
      "text/html": [
       "<div>\n",
       "<style scoped>\n",
       "    .dataframe tbody tr th:only-of-type {\n",
       "        vertical-align: middle;\n",
       "    }\n",
       "\n",
       "    .dataframe tbody tr th {\n",
       "        vertical-align: top;\n",
       "    }\n",
       "\n",
       "    .dataframe thead th {\n",
       "        text-align: right;\n",
       "    }\n",
       "</style>\n",
       "<table border=\"1\" class=\"dataframe\">\n",
       "  <thead>\n",
       "    <tr style=\"text-align: right;\">\n",
       "      <th></th>\n",
       "      <th>Place</th>\n",
       "      <th>Count</th>\n",
       "    </tr>\n",
       "  </thead>\n",
       "  <tbody>\n",
       "    <tr>\n",
       "      <th>15</th>\n",
       "      <td>Armenier</td>\n",
       "      <td>1</td>\n",
       "    </tr>\n",
       "    <tr>\n",
       "      <th>19</th>\n",
       "      <td>Australier</td>\n",
       "      <td>1</td>\n",
       "    </tr>\n",
       "    <tr>\n",
       "      <th>88</th>\n",
       "      <td>Engländer</td>\n",
       "      <td>40</td>\n",
       "    </tr>\n",
       "    <tr>\n",
       "      <th>94</th>\n",
       "      <td>Europäer</td>\n",
       "      <td>1</td>\n",
       "    </tr>\n",
       "    <tr>\n",
       "      <th>101</th>\n",
       "      <td>Franzose</td>\n",
       "      <td>2</td>\n",
       "    </tr>\n",
       "    <tr>\n",
       "      <th>141</th>\n",
       "      <td>Holländer</td>\n",
       "      <td>15</td>\n",
       "    </tr>\n",
       "    <tr>\n",
       "      <th>154</th>\n",
       "      <td>Italiener</td>\n",
       "      <td>6</td>\n",
       "    </tr>\n",
       "    <tr>\n",
       "      <th>193</th>\n",
       "      <td>Litauer</td>\n",
       "      <td>1</td>\n",
       "    </tr>\n",
       "    <tr>\n",
       "      <th>283</th>\n",
       "      <td>Pole</td>\n",
       "      <td>1</td>\n",
       "    </tr>\n",
       "    <tr>\n",
       "      <th>288</th>\n",
       "      <td>Portugiesen</td>\n",
       "      <td>1</td>\n",
       "    </tr>\n",
       "    <tr>\n",
       "      <th>312</th>\n",
       "      <td>Römer</td>\n",
       "      <td>6</td>\n",
       "    </tr>\n",
       "    <tr>\n",
       "      <th>326</th>\n",
       "      <td>Schotte</td>\n",
       "      <td>4</td>\n",
       "    </tr>\n",
       "    <tr>\n",
       "      <th>330</th>\n",
       "      <td>Schwede</td>\n",
       "      <td>1</td>\n",
       "    </tr>\n",
       "    <tr>\n",
       "      <th>347</th>\n",
       "      <td>Spanier</td>\n",
       "      <td>11</td>\n",
       "    </tr>\n",
       "    <tr>\n",
       "      <th>381</th>\n",
       "      <td>Venezianer</td>\n",
       "      <td>5</td>\n",
       "    </tr>\n",
       "    <tr>\n",
       "      <th>386</th>\n",
       "      <td>Walachen</td>\n",
       "      <td>2</td>\n",
       "    </tr>\n",
       "    <tr>\n",
       "      <th>409</th>\n",
       "      <td>Ägypter</td>\n",
       "      <td>3</td>\n",
       "    </tr>\n",
       "  </tbody>\n",
       "</table>\n",
       "</div>"
      ]
     },
     "execution_count": 22,
     "metadata": {},
     "output_type": "execute_result"
    }
   ],
   "execution_count": 22
  },
  {
   "metadata": {},
   "cell_type": "markdown",
   "source": "## Testen ob das Inhaltsverzeichnis stimmt?",
   "id": "76fe41666b61d674"
  },
  {
   "metadata": {
    "ExecuteTime": {
     "end_time": "2024-12-17T17:23:18.322617Z",
     "start_time": "2024-12-17T17:23:18.314216Z"
    }
   },
   "cell_type": "code",
   "source": "from aggregate.letter_map import letter_map",
   "id": "5164401142ee93e4",
   "outputs": [],
   "execution_count": 23
  },
  {
   "metadata": {
    "ExecuteTime": {
     "end_time": "2024-12-17T17:23:18.337012Z",
     "start_time": "2024-12-17T17:23:18.325612Z"
    }
   },
   "cell_type": "code",
   "source": [
    "s1 = \"\"\"747 365. Kurfürstin Sophie an Leibniz, Herrenhausen, 1. August 1713\n",
    "748 366. Leibniz an Kurfürstin Sophie, Wien, 29. November 1713\n",
    "752 367. Kurfürstin Sophie an Leibniz, Hannover, 8. Dezember 1713\n",
    "753 368. Kurfürstin Sophie an Leibniz, Hannover, 28. Dezember 1713\n",
    "755 369. Leibniz an Kurfürstin Sophie, Wien, 1713\n",
    "757 370. Kurfürstin Sophie an Leibniz, Hannover, 4. Januar 1714\n",
    "758 371. Kurfürstin Sophie an Leibniz, Hannover, Ende Januar 1714\n",
    "761 372. Leibniz an Kurfürstin Sophie, Wien, 31. Januar 1714\n",
    "765 373. Kurfürstin Sophie an Leibniz, Hannover, 13. Februar 1714\n",
    "767 374. Kurfürstin Sophie an Leibniz, Hannover, 1. März 1714\n",
    "769 375. Kurfürstin Sophie an Leibniz, Hannover, 1. März 1714\n",
    "771 376. Kurfürstin Sophie an Leibniz, Hannover, 7. März 1714\n",
    "772 377. Kurfürstin Sophie an Leibniz, Hannover, 2. April 1714\n",
    "775 378. Leibniz an Kurfürstin Sophie, Wien, 7. April 1714\n",
    "779 379. Leibniz an Kurfürstin Sophie, Wien, 9. Mai 1714\n",
    "783 380. Kurfürstin Sophie an Leibniz, Hannover, 20. Mai 1714\n",
    "785 381. Leibniz an Kurfürstin Sophie, Wien, 24. Mai 1714\n",
    "787 382. Leibniz auf Kurfürstin Sophie, Wien, Ende Juni oder Anfang Juli 1714 (?)\"\"\""
   ],
   "id": "d29b2825b92bf776",
   "outputs": [],
   "execution_count": 24
  },
  {
   "metadata": {
    "ExecuteTime": {
     "end_time": "2024-12-17T17:23:18.360207Z",
     "start_time": "2024-12-17T17:23:18.340018Z"
    }
   },
   "cell_type": "code",
   "source": [
    "person_map = {\"Herzogin\": \"Sophie\",\"Kurfürstin\":\"Sophie\", \"Leibniz\": \"Leibnitz\"}\n",
    "\n",
    "for line in s1.split(\"\\n\"):\n",
    "    split = line.split()\n",
    "    letter_num = int(split[1].split(\".\")[0])\n",
    "    pred_person = letter_map[letter_num][0] \n",
    "    true_person = split[2]\n",
    "    if pred_person != person_map[true_person]:\n",
    "        print(\"wrong!\", letter_num)\n",
    "    # else:\n",
    "    #     print(pred_person == person_map[true_person])"
   ],
   "id": "4e5e65b51ae52731",
   "outputs": [],
   "execution_count": 25
  },
  {
   "metadata": {},
   "cell_type": "markdown",
   "source": "clean of nationalitites etc.",
   "id": "224bb2404990209"
  },
  {
   "metadata": {
    "ExecuteTime": {
     "end_time": "2024-12-17T17:23:18.373208Z",
     "start_time": "2024-12-17T17:23:18.363212Z"
    }
   },
   "cell_type": "code",
   "source": "from aggregate.letter_map import nationalities_ethnicities, rivers",
   "id": "d2a3fc94501b015e",
   "outputs": [],
   "execution_count": 26
  },
  {
   "metadata": {
    "ExecuteTime": {
     "end_time": "2024-12-17T17:23:18.390194Z",
     "start_time": "2024-12-17T17:23:18.376206Z"
    }
   },
   "cell_type": "code",
   "source": "all = all.sort_values(by=['Count'], ascending=False)",
   "id": "9eecc62cf9ea47af",
   "outputs": [],
   "execution_count": 27
  },
  {
   "metadata": {
    "ExecuteTime": {
     "end_time": "2024-12-17T17:23:18.401725Z",
     "start_time": "2024-12-17T17:23:18.393183Z"
    }
   },
   "cell_type": "code",
   "source": "all=all[~all[\"Place\"].isin(nationalities_ethnicities)]",
   "id": "8e494f4d080d007c",
   "outputs": [],
   "execution_count": 28
  },
  {
   "metadata": {
    "ExecuteTime": {
     "end_time": "2024-12-17T17:23:18.424752Z",
     "start_time": "2024-12-17T17:23:18.404724Z"
    }
   },
   "cell_type": "code",
   "source": "all[all[\"Place\"].isin(rivers)]",
   "id": "b2327acd133191fd",
   "outputs": [
    {
     "data": {
      "text/plain": [
       "         Place  Count\n",
       "304      Rhein     13\n",
       "77       Donau      8\n",
       "85        Elbe      5\n",
       "205       Maas      4\n",
       "310       Ruhr      4\n",
       "357       Stör      2\n",
       "282         Po      2\n",
       "149        Inn      2\n",
       "84       Eider      1\n",
       "91       Etsch      1\n",
       "392   Weichsel      1\n",
       "394      Weser      1\n",
       "5       Alster      1\n",
       "32       Bille      1\n",
       "43      Brenta      1\n",
       "254  Oberrhein      1\n",
       "1         Adda      1\n",
       "305      Rhône      1\n",
       "294      Pruth      1"
      ],
      "text/html": [
       "<div>\n",
       "<style scoped>\n",
       "    .dataframe tbody tr th:only-of-type {\n",
       "        vertical-align: middle;\n",
       "    }\n",
       "\n",
       "    .dataframe tbody tr th {\n",
       "        vertical-align: top;\n",
       "    }\n",
       "\n",
       "    .dataframe thead th {\n",
       "        text-align: right;\n",
       "    }\n",
       "</style>\n",
       "<table border=\"1\" class=\"dataframe\">\n",
       "  <thead>\n",
       "    <tr style=\"text-align: right;\">\n",
       "      <th></th>\n",
       "      <th>Place</th>\n",
       "      <th>Count</th>\n",
       "    </tr>\n",
       "  </thead>\n",
       "  <tbody>\n",
       "    <tr>\n",
       "      <th>304</th>\n",
       "      <td>Rhein</td>\n",
       "      <td>13</td>\n",
       "    </tr>\n",
       "    <tr>\n",
       "      <th>77</th>\n",
       "      <td>Donau</td>\n",
       "      <td>8</td>\n",
       "    </tr>\n",
       "    <tr>\n",
       "      <th>85</th>\n",
       "      <td>Elbe</td>\n",
       "      <td>5</td>\n",
       "    </tr>\n",
       "    <tr>\n",
       "      <th>205</th>\n",
       "      <td>Maas</td>\n",
       "      <td>4</td>\n",
       "    </tr>\n",
       "    <tr>\n",
       "      <th>310</th>\n",
       "      <td>Ruhr</td>\n",
       "      <td>4</td>\n",
       "    </tr>\n",
       "    <tr>\n",
       "      <th>357</th>\n",
       "      <td>Stör</td>\n",
       "      <td>2</td>\n",
       "    </tr>\n",
       "    <tr>\n",
       "      <th>282</th>\n",
       "      <td>Po</td>\n",
       "      <td>2</td>\n",
       "    </tr>\n",
       "    <tr>\n",
       "      <th>149</th>\n",
       "      <td>Inn</td>\n",
       "      <td>2</td>\n",
       "    </tr>\n",
       "    <tr>\n",
       "      <th>84</th>\n",
       "      <td>Eider</td>\n",
       "      <td>1</td>\n",
       "    </tr>\n",
       "    <tr>\n",
       "      <th>91</th>\n",
       "      <td>Etsch</td>\n",
       "      <td>1</td>\n",
       "    </tr>\n",
       "    <tr>\n",
       "      <th>392</th>\n",
       "      <td>Weichsel</td>\n",
       "      <td>1</td>\n",
       "    </tr>\n",
       "    <tr>\n",
       "      <th>394</th>\n",
       "      <td>Weser</td>\n",
       "      <td>1</td>\n",
       "    </tr>\n",
       "    <tr>\n",
       "      <th>5</th>\n",
       "      <td>Alster</td>\n",
       "      <td>1</td>\n",
       "    </tr>\n",
       "    <tr>\n",
       "      <th>32</th>\n",
       "      <td>Bille</td>\n",
       "      <td>1</td>\n",
       "    </tr>\n",
       "    <tr>\n",
       "      <th>43</th>\n",
       "      <td>Brenta</td>\n",
       "      <td>1</td>\n",
       "    </tr>\n",
       "    <tr>\n",
       "      <th>254</th>\n",
       "      <td>Oberrhein</td>\n",
       "      <td>1</td>\n",
       "    </tr>\n",
       "    <tr>\n",
       "      <th>1</th>\n",
       "      <td>Adda</td>\n",
       "      <td>1</td>\n",
       "    </tr>\n",
       "    <tr>\n",
       "      <th>305</th>\n",
       "      <td>Rhône</td>\n",
       "      <td>1</td>\n",
       "    </tr>\n",
       "    <tr>\n",
       "      <th>294</th>\n",
       "      <td>Pruth</td>\n",
       "      <td>1</td>\n",
       "    </tr>\n",
       "  </tbody>\n",
       "</table>\n",
       "</div>"
      ]
     },
     "execution_count": 29,
     "metadata": {},
     "output_type": "execute_result"
    }
   ],
   "execution_count": 29
  },
  {
   "metadata": {
    "ExecuteTime": {
     "end_time": "2024-12-17T17:23:18.445232Z",
     "start_time": "2024-12-17T17:23:18.426751Z"
    }
   },
   "cell_type": "code",
   "source": "all.head(20)",
   "id": "79f07c16965b12e0",
   "outputs": [
    {
     "data": {
      "text/plain": [
       "            Place  Count\n",
       "128      Hannover    265\n",
       "30         Berlin    178\n",
       "87        England    158\n",
       "40   Braunschweig    142\n",
       "100    Frankreich    127\n",
       "331      Schweden    122\n",
       "396          Wien    110\n",
       "293       Preußen     98\n",
       "284         Polen     92\n",
       "60          Celle     75\n",
       "400  Wolfenbüttel     72\n",
       "134  Herrenhausen     62\n",
       "313       Sachsen     55\n",
       "140       Holland     53\n",
       "39    Brandenburg     51\n",
       "81       Dänemark     39\n",
       "269         Paris     36\n",
       "346       Spanien     35\n",
       "25         Bayern     34\n",
       "308           Rom     33"
      ],
      "text/html": [
       "<div>\n",
       "<style scoped>\n",
       "    .dataframe tbody tr th:only-of-type {\n",
       "        vertical-align: middle;\n",
       "    }\n",
       "\n",
       "    .dataframe tbody tr th {\n",
       "        vertical-align: top;\n",
       "    }\n",
       "\n",
       "    .dataframe thead th {\n",
       "        text-align: right;\n",
       "    }\n",
       "</style>\n",
       "<table border=\"1\" class=\"dataframe\">\n",
       "  <thead>\n",
       "    <tr style=\"text-align: right;\">\n",
       "      <th></th>\n",
       "      <th>Place</th>\n",
       "      <th>Count</th>\n",
       "    </tr>\n",
       "  </thead>\n",
       "  <tbody>\n",
       "    <tr>\n",
       "      <th>128</th>\n",
       "      <td>Hannover</td>\n",
       "      <td>265</td>\n",
       "    </tr>\n",
       "    <tr>\n",
       "      <th>30</th>\n",
       "      <td>Berlin</td>\n",
       "      <td>178</td>\n",
       "    </tr>\n",
       "    <tr>\n",
       "      <th>87</th>\n",
       "      <td>England</td>\n",
       "      <td>158</td>\n",
       "    </tr>\n",
       "    <tr>\n",
       "      <th>40</th>\n",
       "      <td>Braunschweig</td>\n",
       "      <td>142</td>\n",
       "    </tr>\n",
       "    <tr>\n",
       "      <th>100</th>\n",
       "      <td>Frankreich</td>\n",
       "      <td>127</td>\n",
       "    </tr>\n",
       "    <tr>\n",
       "      <th>331</th>\n",
       "      <td>Schweden</td>\n",
       "      <td>122</td>\n",
       "    </tr>\n",
       "    <tr>\n",
       "      <th>396</th>\n",
       "      <td>Wien</td>\n",
       "      <td>110</td>\n",
       "    </tr>\n",
       "    <tr>\n",
       "      <th>293</th>\n",
       "      <td>Preußen</td>\n",
       "      <td>98</td>\n",
       "    </tr>\n",
       "    <tr>\n",
       "      <th>284</th>\n",
       "      <td>Polen</td>\n",
       "      <td>92</td>\n",
       "    </tr>\n",
       "    <tr>\n",
       "      <th>60</th>\n",
       "      <td>Celle</td>\n",
       "      <td>75</td>\n",
       "    </tr>\n",
       "    <tr>\n",
       "      <th>400</th>\n",
       "      <td>Wolfenbüttel</td>\n",
       "      <td>72</td>\n",
       "    </tr>\n",
       "    <tr>\n",
       "      <th>134</th>\n",
       "      <td>Herrenhausen</td>\n",
       "      <td>62</td>\n",
       "    </tr>\n",
       "    <tr>\n",
       "      <th>313</th>\n",
       "      <td>Sachsen</td>\n",
       "      <td>55</td>\n",
       "    </tr>\n",
       "    <tr>\n",
       "      <th>140</th>\n",
       "      <td>Holland</td>\n",
       "      <td>53</td>\n",
       "    </tr>\n",
       "    <tr>\n",
       "      <th>39</th>\n",
       "      <td>Brandenburg</td>\n",
       "      <td>51</td>\n",
       "    </tr>\n",
       "    <tr>\n",
       "      <th>81</th>\n",
       "      <td>Dänemark</td>\n",
       "      <td>39</td>\n",
       "    </tr>\n",
       "    <tr>\n",
       "      <th>269</th>\n",
       "      <td>Paris</td>\n",
       "      <td>36</td>\n",
       "    </tr>\n",
       "    <tr>\n",
       "      <th>346</th>\n",
       "      <td>Spanien</td>\n",
       "      <td>35</td>\n",
       "    </tr>\n",
       "    <tr>\n",
       "      <th>25</th>\n",
       "      <td>Bayern</td>\n",
       "      <td>34</td>\n",
       "    </tr>\n",
       "    <tr>\n",
       "      <th>308</th>\n",
       "      <td>Rom</td>\n",
       "      <td>33</td>\n",
       "    </tr>\n",
       "  </tbody>\n",
       "</table>\n",
       "</div>"
      ]
     },
     "execution_count": 30,
     "metadata": {},
     "output_type": "execute_result"
    }
   ],
   "execution_count": 30
  },
  {
   "metadata": {
    "ExecuteTime": {
     "end_time": "2024-12-17T17:23:18.467791Z",
     "start_time": "2024-12-17T17:23:18.448228Z"
    }
   },
   "cell_type": "code",
   "source": "all",
   "id": "c4cb219890f23fa2",
   "outputs": [
    {
     "data": {
      "text/plain": [
       "             Place  Count\n",
       "128       Hannover    265\n",
       "30          Berlin    178\n",
       "87         England    158\n",
       "40    Braunschweig    142\n",
       "100     Frankreich    127\n",
       "..             ...    ...\n",
       "137  Hessen-Kassel      1\n",
       "135       Herzberg      1\n",
       "294          Pruth      1\n",
       "133        Herford      1\n",
       "411           Ätna      1\n",
       "\n",
       "[395 rows x 2 columns]"
      ],
      "text/html": [
       "<div>\n",
       "<style scoped>\n",
       "    .dataframe tbody tr th:only-of-type {\n",
       "        vertical-align: middle;\n",
       "    }\n",
       "\n",
       "    .dataframe tbody tr th {\n",
       "        vertical-align: top;\n",
       "    }\n",
       "\n",
       "    .dataframe thead th {\n",
       "        text-align: right;\n",
       "    }\n",
       "</style>\n",
       "<table border=\"1\" class=\"dataframe\">\n",
       "  <thead>\n",
       "    <tr style=\"text-align: right;\">\n",
       "      <th></th>\n",
       "      <th>Place</th>\n",
       "      <th>Count</th>\n",
       "    </tr>\n",
       "  </thead>\n",
       "  <tbody>\n",
       "    <tr>\n",
       "      <th>128</th>\n",
       "      <td>Hannover</td>\n",
       "      <td>265</td>\n",
       "    </tr>\n",
       "    <tr>\n",
       "      <th>30</th>\n",
       "      <td>Berlin</td>\n",
       "      <td>178</td>\n",
       "    </tr>\n",
       "    <tr>\n",
       "      <th>87</th>\n",
       "      <td>England</td>\n",
       "      <td>158</td>\n",
       "    </tr>\n",
       "    <tr>\n",
       "      <th>40</th>\n",
       "      <td>Braunschweig</td>\n",
       "      <td>142</td>\n",
       "    </tr>\n",
       "    <tr>\n",
       "      <th>100</th>\n",
       "      <td>Frankreich</td>\n",
       "      <td>127</td>\n",
       "    </tr>\n",
       "    <tr>\n",
       "      <th>...</th>\n",
       "      <td>...</td>\n",
       "      <td>...</td>\n",
       "    </tr>\n",
       "    <tr>\n",
       "      <th>137</th>\n",
       "      <td>Hessen-Kassel</td>\n",
       "      <td>1</td>\n",
       "    </tr>\n",
       "    <tr>\n",
       "      <th>135</th>\n",
       "      <td>Herzberg</td>\n",
       "      <td>1</td>\n",
       "    </tr>\n",
       "    <tr>\n",
       "      <th>294</th>\n",
       "      <td>Pruth</td>\n",
       "      <td>1</td>\n",
       "    </tr>\n",
       "    <tr>\n",
       "      <th>133</th>\n",
       "      <td>Herford</td>\n",
       "      <td>1</td>\n",
       "    </tr>\n",
       "    <tr>\n",
       "      <th>411</th>\n",
       "      <td>Ätna</td>\n",
       "      <td>1</td>\n",
       "    </tr>\n",
       "  </tbody>\n",
       "</table>\n",
       "<p>395 rows × 2 columns</p>\n",
       "</div>"
      ]
     },
     "execution_count": 31,
     "metadata": {},
     "output_type": "execute_result"
    }
   ],
   "execution_count": 31
  },
  {
   "metadata": {
    "ExecuteTime": {
     "end_time": "2024-12-17T17:23:18.479216Z",
     "start_time": "2024-12-17T17:23:18.472794Z"
    }
   },
   "cell_type": "code",
   "source": "",
   "id": "31ef7c011ccd51cd",
   "outputs": [],
   "execution_count": 31
  }
 ],
 "metadata": {
  "kernelspec": {
   "display_name": "Python 3 (ipykernel)",
   "language": "python",
   "name": "python3"
  },
  "language_info": {
   "codemirror_mode": {
    "name": "ipython",
    "version": 3
   },
   "file_extension": ".py",
   "mimetype": "text/x-python",
   "name": "python",
   "nbconvert_exporter": "python",
   "pygments_lexer": "ipython3",
   "version": "3.11.2"
  }
 },
 "nbformat": 4,
 "nbformat_minor": 5
}
