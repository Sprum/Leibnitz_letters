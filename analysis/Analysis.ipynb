{
 "cells": [
  {
   "cell_type": "code",
   "execution_count": 1,
   "id": "e0199f46-ac96-45e2-b554-bb55be6df027",
   "metadata": {
    "ExecuteTime": {
     "end_time": "2024-07-10T15:12:37.876641100Z",
     "start_time": "2024-07-10T15:12:37.103955800Z"
    }
   },
   "outputs": [],
   "source": [
    "from pathlib import Path\n",
    "from pandas import DataFrame\n",
    "import pandas as pd"
   ]
  },
  {
   "cell_type": "code",
   "execution_count": 2,
   "id": "5a50fbdd-1d31-4a0c-9212-e5faeb3df3a1",
   "metadata": {
    "ExecuteTime": {
     "end_time": "2024-07-10T15:12:37.888205800Z",
     "start_time": "2024-07-10T15:12:37.879644300Z"
    }
   },
   "outputs": [],
   "source": [
    "def read_csv(path: Path) -> DataFrame:\n",
    "    df = pd.read_csv(path)\n",
    "    return df"
   ]
  },
  {
   "cell_type": "code",
   "execution_count": 3,
   "id": "3402744b-663a-4244-aa70-a0fe9cd9e400",
   "metadata": {
    "ExecuteTime": {
     "end_time": "2024-07-10T15:12:37.913270100Z",
     "start_time": "2024-07-10T15:12:37.892205400Z"
    }
   },
   "outputs": [],
   "source": [
    "df = read_csv(\"../data/all.csv\")\n"
   ]
  },
  {
   "cell_type": "code",
   "execution_count": 4,
   "id": "1c6c66b9-2cc7-4e20-b573-dd360e643f4b",
   "metadata": {
    "ExecuteTime": {
     "end_time": "2024-07-10T15:12:37.931193100Z",
     "start_time": "2024-07-10T15:12:37.912264200Z"
    }
   },
   "outputs": [],
   "source": [
    "sorted = df.sort_values([\"Count\"], ascending=False)\n",
    "\n"
   ]
  },
  {
   "cell_type": "code",
   "execution_count": 5,
   "id": "0f2ae5d4-0dc4-4d0a-a941-2f47aa3fe9db",
   "metadata": {
    "ExecuteTime": {
     "end_time": "2024-07-10T15:12:37.944132100Z",
     "start_time": "2024-07-10T15:12:37.926198600Z"
    }
   },
   "outputs": [],
   "source": [
    "from aggregate.letter_map import continents, rivers, misc, landmarks, regions, countries, cities, \\\n",
    "    nationalities_ethnicities, water_bodies, always_drop\n",
    "\n",
    "filtered_df = df[df['Place'].isin(water_bodies)]\n"
   ]
  },
  {
   "cell_type": "code",
   "execution_count": 6,
   "outputs": [],
   "source": [
    "filtered_df.to_csv(\"../aggregate/geocoding/water_bodies.csv\", index=False)\n"
   ],
   "metadata": {
    "collapsed": false,
    "ExecuteTime": {
     "end_time": "2024-07-10T15:12:37.967499200Z",
     "start_time": "2024-07-10T15:12:37.947134700Z"
    }
   },
   "id": "a1aa02f420768a03"
  }
 ],
 "metadata": {
  "kernelspec": {
   "display_name": "Python 3 (ipykernel)",
   "language": "python",
   "name": "python3"
  },
  "language_info": {
   "codemirror_mode": {
    "name": "ipython",
    "version": 3
   },
   "file_extension": ".py",
   "mimetype": "text/x-python",
   "name": "python",
   "nbconvert_exporter": "python",
   "pygments_lexer": "ipython3",
   "version": "3.11.2"
  }
 },
 "nbformat": 4,
 "nbformat_minor": 5
}
