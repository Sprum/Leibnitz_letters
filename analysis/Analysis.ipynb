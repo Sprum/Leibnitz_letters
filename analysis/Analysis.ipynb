{
 "cells": [
  {
   "cell_type": "markdown",
   "source": [
    "## Deskriptive Betrachtung der Quelle\n",
    "Dependenzen und Daten laden:"
   ],
   "metadata": {
    "collapsed": false
   },
   "id": "50256aaeb1af3325"
  },
  {
   "cell_type": "code",
   "execution_count": 1,
   "id": "e0199f46-ac96-45e2-b554-bb55be6df027",
   "metadata": {
    "ExecuteTime": {
     "end_time": "2024-07-17T18:28:11.805861Z",
     "start_time": "2024-07-17T18:28:08.971120600Z"
    }
   },
   "outputs": [],
   "source": [
    "from pathlib import Path\n",
    "from pandas import DataFrame\n",
    "import pandas as pd"
   ]
  },
  {
   "cell_type": "code",
   "execution_count": 2,
   "id": "5a50fbdd-1d31-4a0c-9212-e5faeb3df3a1",
   "metadata": {
    "ExecuteTime": {
     "end_time": "2024-07-17T18:28:11.835262700Z",
     "start_time": "2024-07-17T18:28:11.800848900Z"
    }
   },
   "outputs": [],
   "source": [
    "def read_csv(path: Path) -> DataFrame:\n",
    "    df = pd.read_csv(path)\n",
    "    return df"
   ]
  },
  {
   "cell_type": "code",
   "execution_count": 3,
   "id": "3402744b-663a-4244-aa70-a0fe9cd9e400",
   "metadata": {
    "ExecuteTime": {
     "end_time": "2024-07-17T18:28:11.945872500Z",
     "start_time": "2024-07-17T18:28:11.834261500Z"
    }
   },
   "outputs": [],
   "source": [
    "df = read_csv(\"../data/all.csv\")\n"
   ]
  },
  {
   "cell_type": "markdown",
   "source": [
    "Ermitteln wie Oft die Orte als Absende Orte vorliegen"
   ],
   "metadata": {
    "collapsed": false
   },
   "id": "ea816dc4175161a9"
  },
  {
   "cell_type": "code",
   "execution_count": 4,
   "outputs": [
    {
     "data": {
      "text/plain": "{'Clausthal': 1,\n 'Ferrara': 1,\n 'Wien': 27,\n 'Göhrde': 3,\n 'Braunschweig': 8,\n 'Leipzig': 1,\n 'Oranienburg': 1,\n 'Berlin': 62,\n 'Helmstedt': 1,\n 'Bruchhausen': 1,\n 'Hannover': 173,\n 'Zellerfeld': 1,\n 'Rehburg': 1,\n 'Wolfenbüttel': 14,\n 'Karlsbad': 1,\n 'Modena': 1,\n 'Regensburg': 1,\n 'Wolfenbüttel oder Helmstedt': 1,\n 'Celle': 3,\n 'Linsburg': 11,\n 'Ebstorf': 6,\n 'Torgau': 1,\n 'München': 1,\n 'Herrenhausen': 53,\n 'Lietzenburg': 8}"
     },
     "execution_count": 4,
     "metadata": {},
     "output_type": "execute_result"
    }
   ],
   "source": [
    "from aggregate.letter_map import letter_map, places_set\n",
    "\n",
    "# alle einzelnen Absendeorte initialisieren\n",
    "absender_set = set()\n",
    "for item, val in letter_map.items():\n",
    "    absender_set.add(val[1])\n",
    "# Zählen der Absendeorte intitialisieren\n",
    "absender_count = {}\n",
    "for i in absender_set:\n",
    "    absender_count[i] = 0\n",
    "    \n",
    "# Orte zählen\n",
    "for item, val in letter_map.items():\n",
    "    absender_count[val[1]] += 1\n",
    "    \n",
    "absender_count"
   ],
   "metadata": {
    "collapsed": false,
    "ExecuteTime": {
     "end_time": "2024-07-17T18:28:11.965182200Z",
     "start_time": "2024-07-17T18:28:11.890451800Z"
    }
   },
   "id": "be488293d662f206"
  },
  {
   "cell_type": "markdown",
   "source": [
    "testen, ob die Anzahl der Absendeorte mit der Anzahl der Briefe übereinstimmt:"
   ],
   "metadata": {
    "collapsed": false
   },
   "id": "306c1e19a570e99b"
  },
  {
   "cell_type": "code",
   "execution_count": 5,
   "outputs": [
    {
     "name": "stdout",
     "output_type": "stream",
     "text": [
      "382 382\n"
     ]
    }
   ],
   "source": [
    "\n",
    "absolute_count = 0\n",
    "for item, val in absender_count.items():\n",
    "    absolute_count += val\n",
    "print(absolute_count, len(letter_map))"
   ],
   "metadata": {
    "collapsed": false,
    "ExecuteTime": {
     "end_time": "2024-07-17T18:28:11.973157500Z",
     "start_time": "2024-07-17T18:28:11.942874300Z"
    }
   },
   "id": "784c2aafc2091dcc"
  },
  {
   "cell_type": "markdown",
   "source": [
    "### 1. Zum Address-Verhalten\n",
    "Leibnitz neigt dazu den Absendeort, wenn überhaupt, unten im Brief einzufügen. \n",
    "Sophie von Hannover ist deutlich sorgfältiger und setzt oben meist den Absende Ort ein und schließt mit \"An Herrn Leibnitz in {Leibnitzs Aufenthaltsort}\""
   ],
   "metadata": {
    "collapsed": false
   },
   "id": "103eb5590d598414"
  },
  {
   "cell_type": "markdown",
   "source": [
    "Auslesen, wie hoch der Impact von Absendeort auf Ortsnennung ist:"
   ],
   "metadata": {
    "collapsed": false
   },
   "id": "4bb0a7f2107c8b03"
  },
  {
   "cell_type": "code",
   "execution_count": 6,
   "outputs": [
    {
     "name": "stdout",
     "output_type": "stream",
     "text": [
      "{'Lietzenburg', 'Rehburg', 'Wolfenbüttel oder Helmstedt'}\n"
     ]
    }
   ],
   "source": [
    "# Dataframe mit Absendeorten:\n",
    "absendeorte = df[df['Place'].isin(absender_set)]\n",
    "ab_all = set(absendeorte['Place'])\n",
    "\n",
    "missing_places = absender_set - ab_all\n",
    "print( missing_places)"
   ],
   "metadata": {
    "collapsed": false,
    "ExecuteTime": {
     "end_time": "2024-07-17T18:28:12.183344700Z",
     "start_time": "2024-07-17T18:28:11.983179200Z"
    }
   },
   "id": "5e009e5121474b5a"
  },
  {
   "cell_type": "markdown",
   "source": [
    "## 2. Reise Verhalten\n",
    "\n",
    "TODO: Karte machen?"
   ],
   "metadata": {
    "collapsed": false
   },
   "id": "418f87b1c3ece2cf"
  },
  {
   "cell_type": "code",
   "execution_count": 7,
   "outputs": [
    {
     "name": "stdout",
     "output_type": "stream",
     "text": [
      "Lietzenburg True\n",
      "Rehburg True\n",
      "Wolfenbüttel oder Helmstedt False\n"
     ]
    }
   ],
   "source": [
    "for v in missing_places:\n",
    "    print(v, v in places_set)"
   ],
   "metadata": {
    "collapsed": false,
    "ExecuteTime": {
     "end_time": "2024-07-17T18:28:12.186320100Z",
     "start_time": "2024-07-17T18:28:12.024908100Z"
    }
   },
   "id": "1ab6f9fd556aac58"
  },
  {
   "cell_type": "code",
   "execution_count": 7,
   "outputs": [],
   "source": [],
   "metadata": {
    "collapsed": false,
    "ExecuteTime": {
     "end_time": "2024-07-17T18:28:12.187318500Z",
     "start_time": "2024-07-17T18:28:12.049136300Z"
    }
   },
   "id": "cbd3aa9c17ed43ac"
  },
  {
   "cell_type": "code",
   "execution_count": 7,
   "outputs": [],
   "source": [],
   "metadata": {
    "collapsed": false,
    "ExecuteTime": {
     "end_time": "2024-07-17T18:28:12.227331600Z",
     "start_time": "2024-07-17T18:28:12.066943200Z"
    }
   },
   "id": "87e730195380c4da"
  },
  {
   "cell_type": "code",
   "execution_count": null,
   "outputs": [],
   "source": [],
   "metadata": {
    "collapsed": false
   },
   "id": "165287587bd3abef"
  }
 ],
 "metadata": {
  "kernelspec": {
   "display_name": "Python 3 (ipykernel)",
   "language": "python",
   "name": "python3"
  },
  "language_info": {
   "codemirror_mode": {
    "name": "ipython",
    "version": 3
   },
   "file_extension": ".py",
   "mimetype": "text/x-python",
   "name": "python",
   "nbconvert_exporter": "python",
   "pygments_lexer": "ipython3",
   "version": "3.11.2"
  }
 },
 "nbformat": 4,
 "nbformat_minor": 5
}
