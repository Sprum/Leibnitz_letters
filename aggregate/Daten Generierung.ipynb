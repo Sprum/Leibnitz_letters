{
 "cells": [
  {
   "cell_type": "markdown",
   "source": [
    "## 1. Generieren"
   ],
   "metadata": {
    "collapsed": false
   },
   "id": "5533231473e89137"
  },
  {
   "cell_type": "code",
   "execution_count": null,
   "outputs": [],
   "source": [
    "from processing import exec_extract_placecount_per_letter\n",
    "letter_path = \"../letters/cleaned\"\n",
    "output_dir = \"../data/per letter/\"\n",
    "\n",
    "exec_extract_placecount_per_letter(letter_path, output_dir)"
   ],
   "metadata": {
    "collapsed": false
   },
   "id": "af30365d24fb0813"
  },
  {
   "cell_type": "code",
   "execution_count": null,
   "outputs": [],
   "source": [],
   "metadata": {
    "collapsed": false
   },
   "id": "ba6312ff6f21aeda"
  },
  {
   "cell_type": "markdown",
   "source": [
    "## 2. Säubern"
   ],
   "metadata": {
    "collapsed": false
   },
   "id": "f7dfdcc600bd9308"
  },
  {
   "cell_type": "markdown",
   "source": [
    "## 3. Aggregieren"
   ],
   "metadata": {
    "collapsed": false
   },
   "id": "74cc7a085d878e4f"
  },
  {
   "cell_type": "code",
   "execution_count": null,
   "outputs": [],
   "source": [],
   "metadata": {
    "collapsed": false
   },
   "id": "ed8310980e4bc6e8"
  }
 ],
 "metadata": {
  "kernelspec": {
   "display_name": "Python 3",
   "language": "python",
   "name": "python3"
  },
  "language_info": {
   "codemirror_mode": {
    "name": "ipython",
    "version": 2
   },
   "file_extension": ".py",
   "mimetype": "text/x-python",
   "name": "python",
   "nbconvert_exporter": "python",
   "pygments_lexer": "ipython2",
   "version": "2.7.6"
  }
 },
 "nbformat": 4,
 "nbformat_minor": 5
}
